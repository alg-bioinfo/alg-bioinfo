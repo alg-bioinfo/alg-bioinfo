{
 "cells": [
  {
   "cell_type": "code",
   "execution_count": 1,
   "id": "eba310d5",
   "metadata": {
    "slideshow": {
     "slide_type": "slide"
    }
   },
   "outputs": [],
   "source": [
    "#Project guided by Chanin Nantasenamat's bioinformatic course: https://github.com/dataprofessor/bioinformatics_freecodecamp/blob/main/CDD_ML_Part_1_Acetylcholinesterase_Bioactivity_Data_Concised.ipynb"
   ]
  },
  {
   "cell_type": "code",
   "execution_count": 1,
   "id": "d428efbe",
   "metadata": {
    "slideshow": {
     "slide_type": "skip"
    }
   },
   "outputs": [
    {
     "name": "stdout",
     "output_type": "stream",
     "text": [
      "Collecting chembl_webresource_client\n",
      "  Using cached chembl_webresource_client-0.10.8-py3-none-any.whl (55 kB)\n",
      "Collecting easydict\n",
      "  Using cached easydict-1.10-py3-none-any.whl\n",
      "Requirement already satisfied: requests>=2.18.4 in /Applications/miniconda3/lib/python3.9/site-packages (from chembl_webresource_client) (2.27.1)\n",
      "Requirement already satisfied: urllib3 in /Applications/miniconda3/lib/python3.9/site-packages (from chembl_webresource_client) (1.26.9)\n",
      "Collecting requests-cache~=0.7.0\n",
      "  Using cached requests_cache-0.7.5-py3-none-any.whl (39 kB)\n",
      "Requirement already satisfied: certifi>=2017.4.17 in /Applications/miniconda3/lib/python3.9/site-packages (from requests>=2.18.4->chembl_webresource_client) (2022.9.24)\n",
      "Requirement already satisfied: charset-normalizer~=2.0.0 in /Applications/miniconda3/lib/python3.9/site-packages (from requests>=2.18.4->chembl_webresource_client) (2.0.4)\n",
      "Requirement already satisfied: idna<4,>=2.5 in /Applications/miniconda3/lib/python3.9/site-packages (from requests>=2.18.4->chembl_webresource_client) (3.3)\n",
      "Collecting itsdangerous>=2.0.1\n",
      "  Downloading itsdangerous-2.1.2-py3-none-any.whl (15 kB)\n",
      "Requirement already satisfied: pyyaml>=5.4 in /Applications/miniconda3/lib/python3.9/site-packages (from requests-cache~=0.7.0->chembl_webresource_client) (6.0)\n",
      "Collecting url-normalize<2.0,>=1.4\n",
      "  Using cached url_normalize-1.4.3-py2.py3-none-any.whl (6.8 kB)\n",
      "Requirement already satisfied: attrs<22.0,>=21.2 in /Applications/miniconda3/lib/python3.9/site-packages (from requests-cache~=0.7.0->chembl_webresource_client) (21.4.0)\n",
      "Requirement already satisfied: six in /Applications/miniconda3/lib/python3.9/site-packages (from url-normalize<2.0,>=1.4->requests-cache~=0.7.0->chembl_webresource_client) (1.16.0)\n",
      "Installing collected packages: url-normalize, itsdangerous, requests-cache, easydict, chembl-webresource-client\n",
      "Successfully installed chembl-webresource-client-0.10.8 easydict-1.10 itsdangerous-2.1.2 requests-cache-0.7.5 url-normalize-1.4.3\n"
     ]
    }
   ],
   "source": [
    "# Install ChEMBL Database Client\n",
    "! pip install chembl_webresource_client"
   ]
  },
  {
   "cell_type": "code",
   "execution_count": 7,
   "id": "d8410f5a",
   "metadata": {
    "slideshow": {
     "slide_type": "slide"
    }
   },
   "outputs": [],
   "source": [
    "# Importing Libraries\n",
    "import pandas as pd\n",
    "from chembl_webresource_client.new_client import new_client"
   ]
  },
  {
   "cell_type": "code",
   "execution_count": 10,
   "id": "0e23622a",
   "metadata": {
    "slideshow": {
     "slide_type": "slide"
    }
   },
   "outputs": [
    {
     "data": {
      "text/html": [
       "<div>\n",
       "<style scoped>\n",
       "    .dataframe tbody tr th:only-of-type {\n",
       "        vertical-align: middle;\n",
       "    }\n",
       "\n",
       "    .dataframe tbody tr th {\n",
       "        vertical-align: top;\n",
       "    }\n",
       "\n",
       "    .dataframe thead th {\n",
       "        text-align: right;\n",
       "    }\n",
       "</style>\n",
       "<table border=\"1\" class=\"dataframe\">\n",
       "  <thead>\n",
       "    <tr style=\"text-align: right;\">\n",
       "      <th></th>\n",
       "      <th>cross_references</th>\n",
       "      <th>organism</th>\n",
       "      <th>pref_name</th>\n",
       "      <th>score</th>\n",
       "      <th>species_group_flag</th>\n",
       "      <th>target_chembl_id</th>\n",
       "      <th>target_components</th>\n",
       "      <th>target_type</th>\n",
       "      <th>tax_id</th>\n",
       "    </tr>\n",
       "  </thead>\n",
       "  <tbody>\n",
       "    <tr>\n",
       "      <th>0</th>\n",
       "      <td>[]</td>\n",
       "      <td>Human immunodeficiency virus</td>\n",
       "      <td>HIV protease</td>\n",
       "      <td>20.0</td>\n",
       "      <td>False</td>\n",
       "      <td>CHEMBL3638323</td>\n",
       "      <td>[{'accession': 'Q9YQ30', 'component_descriptio...</td>\n",
       "      <td>SINGLE PROTEIN</td>\n",
       "      <td>12721</td>\n",
       "    </tr>\n",
       "    <tr>\n",
       "      <th>1</th>\n",
       "      <td>[]</td>\n",
       "      <td>HIV-1 M:B_Lai</td>\n",
       "      <td>HIV-1 M:B_Lai</td>\n",
       "      <td>14.0</td>\n",
       "      <td>False</td>\n",
       "      <td>CHEMBL612775</td>\n",
       "      <td>[]</td>\n",
       "      <td>ORGANISM</td>\n",
       "      <td>290579</td>\n",
       "    </tr>\n",
       "    <tr>\n",
       "      <th>2</th>\n",
       "      <td>[]</td>\n",
       "      <td>Homo sapiens</td>\n",
       "      <td>Transcription factor HIVEP2</td>\n",
       "      <td>12.0</td>\n",
       "      <td>False</td>\n",
       "      <td>CHEMBL4523214</td>\n",
       "      <td>[{'accession': 'P31629', 'component_descriptio...</td>\n",
       "      <td>SINGLE PROTEIN</td>\n",
       "      <td>9606</td>\n",
       "    </tr>\n",
       "    <tr>\n",
       "      <th>3</th>\n",
       "      <td>[]</td>\n",
       "      <td>Homo sapiens</td>\n",
       "      <td>Ubiquitin thioesterase OTU1</td>\n",
       "      <td>12.0</td>\n",
       "      <td>False</td>\n",
       "      <td>CHEMBL4630833</td>\n",
       "      <td>[{'accession': 'Q5VVQ6', 'component_descriptio...</td>\n",
       "      <td>SINGLE PROTEIN</td>\n",
       "      <td>9606</td>\n",
       "    </tr>\n",
       "    <tr>\n",
       "      <th>4</th>\n",
       "      <td>[{'xref_id': 'P51681', 'xref_name': None, 'xre...</td>\n",
       "      <td>Homo sapiens</td>\n",
       "      <td>C-C chemokine receptor type 5</td>\n",
       "      <td>11.0</td>\n",
       "      <td>False</td>\n",
       "      <td>CHEMBL274</td>\n",
       "      <td>[{'accession': 'P51681', 'component_descriptio...</td>\n",
       "      <td>SINGLE PROTEIN</td>\n",
       "      <td>9606</td>\n",
       "    </tr>\n",
       "    <tr>\n",
       "      <th>5</th>\n",
       "      <td>[{'xref_id': 'P15822', 'xref_name': None, 'xre...</td>\n",
       "      <td>Homo sapiens</td>\n",
       "      <td>Human immunodeficiency virus type I enhancer-b...</td>\n",
       "      <td>9.0</td>\n",
       "      <td>False</td>\n",
       "      <td>CHEMBL2909</td>\n",
       "      <td>[{'accession': 'P15822', 'component_descriptio...</td>\n",
       "      <td>SINGLE PROTEIN</td>\n",
       "      <td>9606</td>\n",
       "    </tr>\n",
       "    <tr>\n",
       "      <th>6</th>\n",
       "      <td>[{'xref_id': 'Q92993', 'xref_name': None, 'xre...</td>\n",
       "      <td>Homo sapiens</td>\n",
       "      <td>Histone acetyltransferase KAT5</td>\n",
       "      <td>9.0</td>\n",
       "      <td>False</td>\n",
       "      <td>CHEMBL5750</td>\n",
       "      <td>[{'accession': 'Q92993', 'component_descriptio...</td>\n",
       "      <td>SINGLE PROTEIN</td>\n",
       "      <td>9606</td>\n",
       "    </tr>\n",
       "    <tr>\n",
       "      <th>7</th>\n",
       "      <td>[]</td>\n",
       "      <td>Homo sapiens</td>\n",
       "      <td>CCR5/mu opioid receptor complex</td>\n",
       "      <td>9.0</td>\n",
       "      <td>False</td>\n",
       "      <td>CHEMBL3301384</td>\n",
       "      <td>[{'accession': 'P51681', 'component_descriptio...</td>\n",
       "      <td>PROTEIN COMPLEX</td>\n",
       "      <td>9606</td>\n",
       "    </tr>\n",
       "    <tr>\n",
       "      <th>8</th>\n",
       "      <td>[]</td>\n",
       "      <td>Homo sapiens</td>\n",
       "      <td>80S Ribosome</td>\n",
       "      <td>0.0</td>\n",
       "      <td>False</td>\n",
       "      <td>CHEMBL3987582</td>\n",
       "      <td>[{'accession': 'P08865', 'component_descriptio...</td>\n",
       "      <td>PROTEIN NUCLEIC-ACID COMPLEX</td>\n",
       "      <td>9606</td>\n",
       "    </tr>\n",
       "  </tbody>\n",
       "</table>\n",
       "</div>"
      ],
      "text/plain": [
       "                                    cross_references  \\\n",
       "0                                                 []   \n",
       "1                                                 []   \n",
       "2                                                 []   \n",
       "3                                                 []   \n",
       "4  [{'xref_id': 'P51681', 'xref_name': None, 'xre...   \n",
       "5  [{'xref_id': 'P15822', 'xref_name': None, 'xre...   \n",
       "6  [{'xref_id': 'Q92993', 'xref_name': None, 'xre...   \n",
       "7                                                 []   \n",
       "8                                                 []   \n",
       "\n",
       "                       organism  \\\n",
       "0  Human immunodeficiency virus   \n",
       "1                 HIV-1 M:B_Lai   \n",
       "2                  Homo sapiens   \n",
       "3                  Homo sapiens   \n",
       "4                  Homo sapiens   \n",
       "5                  Homo sapiens   \n",
       "6                  Homo sapiens   \n",
       "7                  Homo sapiens   \n",
       "8                  Homo sapiens   \n",
       "\n",
       "                                           pref_name  score  \\\n",
       "0                                       HIV protease   20.0   \n",
       "1                                      HIV-1 M:B_Lai   14.0   \n",
       "2                        Transcription factor HIVEP2   12.0   \n",
       "3                        Ubiquitin thioesterase OTU1   12.0   \n",
       "4                      C-C chemokine receptor type 5   11.0   \n",
       "5  Human immunodeficiency virus type I enhancer-b...    9.0   \n",
       "6                     Histone acetyltransferase KAT5    9.0   \n",
       "7                    CCR5/mu opioid receptor complex    9.0   \n",
       "8                                       80S Ribosome    0.0   \n",
       "\n",
       "   species_group_flag target_chembl_id  \\\n",
       "0               False    CHEMBL3638323   \n",
       "1               False     CHEMBL612775   \n",
       "2               False    CHEMBL4523214   \n",
       "3               False    CHEMBL4630833   \n",
       "4               False        CHEMBL274   \n",
       "5               False       CHEMBL2909   \n",
       "6               False       CHEMBL5750   \n",
       "7               False    CHEMBL3301384   \n",
       "8               False    CHEMBL3987582   \n",
       "\n",
       "                                   target_components  \\\n",
       "0  [{'accession': 'Q9YQ30', 'component_descriptio...   \n",
       "1                                                 []   \n",
       "2  [{'accession': 'P31629', 'component_descriptio...   \n",
       "3  [{'accession': 'Q5VVQ6', 'component_descriptio...   \n",
       "4  [{'accession': 'P51681', 'component_descriptio...   \n",
       "5  [{'accession': 'P15822', 'component_descriptio...   \n",
       "6  [{'accession': 'Q92993', 'component_descriptio...   \n",
       "7  [{'accession': 'P51681', 'component_descriptio...   \n",
       "8  [{'accession': 'P08865', 'component_descriptio...   \n",
       "\n",
       "                    target_type  tax_id  \n",
       "0                SINGLE PROTEIN   12721  \n",
       "1                      ORGANISM  290579  \n",
       "2                SINGLE PROTEIN    9606  \n",
       "3                SINGLE PROTEIN    9606  \n",
       "4                SINGLE PROTEIN    9606  \n",
       "5                SINGLE PROTEIN    9606  \n",
       "6                SINGLE PROTEIN    9606  \n",
       "7               PROTEIN COMPLEX    9606  \n",
       "8  PROTEIN NUCLEIC-ACID COMPLEX    9606  "
      ]
     },
     "execution_count": 10,
     "metadata": {},
     "output_type": "execute_result"
    }
   ],
   "source": [
    "# Search for HIV in ChEMBL\n",
    "target = new_client.target\n",
    "target_virus = target.search('HIV')\n",
    "target_virus_df = pd.DataFrame.from_dict(target_virus)\n",
    "target_virus_df"
   ]
  },
  {
   "cell_type": "code",
   "execution_count": 11,
   "id": "f1b3d050",
   "metadata": {
    "slideshow": {
     "slide_type": "slide"
    }
   },
   "outputs": [
    {
     "data": {
      "text/plain": [
       "'CHEMBL274'"
      ]
     },
     "execution_count": 11,
     "metadata": {},
     "output_type": "execute_result"
    }
   ],
   "source": [
    "# Filter and retrieve data for target protein\n",
    "target_protein = target_virus_df.target_chembl_id[4]\n",
    "target_protein"
   ]
  },
  {
   "cell_type": "code",
   "execution_count": 12,
   "id": "4a0cee50",
   "metadata": {
    "slideshow": {
     "slide_type": "slide"
    }
   },
   "outputs": [],
   "source": [
    "# Obtain bioactivity data\n",
    "activity = new_client.activity\n",
    "inhib_conc = activity.filter(target_chembl_id = target_protein).filter(standard_type = 'IC50')\n",
    "# IC50 is The half maximal inhibitory concentration is a measure of the potency of a \n",
    "# substance in inhibiting a specific biological or biochemical function. Measured in micromolar (mM)"
   ]
  },
  {
   "cell_type": "code",
   "execution_count": 13,
   "id": "6bda0d41",
   "metadata": {
    "slideshow": {
     "slide_type": "slide"
    }
   },
   "outputs": [
    {
     "ename": "KeyboardInterrupt",
     "evalue": "",
     "output_type": "error",
     "traceback": [
      "\u001b[0;31m---------------------------------------------------------------------------\u001b[0m",
      "\u001b[0;31mKeyboardInterrupt\u001b[0m                         Traceback (most recent call last)",
      "Input \u001b[0;32mIn [13]\u001b[0m, in \u001b[0;36m<cell line: 1>\u001b[0;34m()\u001b[0m\n\u001b[0;32m----> 1\u001b[0m df1 \u001b[38;5;241m=\u001b[39m \u001b[43mpd\u001b[49m\u001b[38;5;241;43m.\u001b[39;49m\u001b[43mDataFrame\u001b[49m\u001b[38;5;241;43m.\u001b[39;49m\u001b[43mfrom_dict\u001b[49m\u001b[43m(\u001b[49m\u001b[43minhib_conc\u001b[49m\u001b[43m)\u001b[49m\n\u001b[1;32m      2\u001b[0m df1\n",
      "File \u001b[0;32m/Applications/miniconda3/lib/python3.9/site-packages/pandas/core/frame.py:1763\u001b[0m, in \u001b[0;36mDataFrame.from_dict\u001b[0;34m(cls, data, orient, dtype, columns)\u001b[0m\n\u001b[1;32m   1757\u001b[0m     \u001b[38;5;28;01mraise\u001b[39;00m \u001b[38;5;167;01mValueError\u001b[39;00m(\n\u001b[1;32m   1758\u001b[0m         \u001b[38;5;124mf\u001b[39m\u001b[38;5;124m\"\u001b[39m\u001b[38;5;124mExpected \u001b[39m\u001b[38;5;124m'\u001b[39m\u001b[38;5;124mindex\u001b[39m\u001b[38;5;124m'\u001b[39m\u001b[38;5;124m, \u001b[39m\u001b[38;5;124m'\u001b[39m\u001b[38;5;124mcolumns\u001b[39m\u001b[38;5;124m'\u001b[39m\u001b[38;5;124m or \u001b[39m\u001b[38;5;124m'\u001b[39m\u001b[38;5;124mtight\u001b[39m\u001b[38;5;124m'\u001b[39m\u001b[38;5;124m for orient parameter. \u001b[39m\u001b[38;5;124m\"\u001b[39m\n\u001b[1;32m   1759\u001b[0m         \u001b[38;5;124mf\u001b[39m\u001b[38;5;124m\"\u001b[39m\u001b[38;5;124mGot \u001b[39m\u001b[38;5;124m'\u001b[39m\u001b[38;5;132;01m{\u001b[39;00morient\u001b[38;5;132;01m}\u001b[39;00m\u001b[38;5;124m'\u001b[39m\u001b[38;5;124m instead\u001b[39m\u001b[38;5;124m\"\u001b[39m\n\u001b[1;32m   1760\u001b[0m     )\n\u001b[1;32m   1762\u001b[0m \u001b[38;5;28;01mif\u001b[39;00m orient \u001b[38;5;241m!=\u001b[39m \u001b[38;5;124m\"\u001b[39m\u001b[38;5;124mtight\u001b[39m\u001b[38;5;124m\"\u001b[39m:\n\u001b[0;32m-> 1763\u001b[0m     \u001b[38;5;28;01mreturn\u001b[39;00m \u001b[38;5;28;43mcls\u001b[39;49m\u001b[43m(\u001b[49m\u001b[43mdata\u001b[49m\u001b[43m,\u001b[49m\u001b[43m \u001b[49m\u001b[43mindex\u001b[49m\u001b[38;5;241;43m=\u001b[39;49m\u001b[43mindex\u001b[49m\u001b[43m,\u001b[49m\u001b[43m \u001b[49m\u001b[43mcolumns\u001b[49m\u001b[38;5;241;43m=\u001b[39;49m\u001b[43mcolumns\u001b[49m\u001b[43m,\u001b[49m\u001b[43m \u001b[49m\u001b[43mdtype\u001b[49m\u001b[38;5;241;43m=\u001b[39;49m\u001b[43mdtype\u001b[49m\u001b[43m)\u001b[49m\n\u001b[1;32m   1764\u001b[0m \u001b[38;5;28;01melse\u001b[39;00m:\n\u001b[1;32m   1765\u001b[0m     realdata \u001b[38;5;241m=\u001b[39m data[\u001b[38;5;124m\"\u001b[39m\u001b[38;5;124mdata\u001b[39m\u001b[38;5;124m\"\u001b[39m]\n",
      "File \u001b[0;32m/Applications/miniconda3/lib/python3.9/site-packages/pandas/core/frame.py:737\u001b[0m, in \u001b[0;36mDataFrame.__init__\u001b[0;34m(self, data, index, columns, dtype, copy)\u001b[0m\n\u001b[1;32m    735\u001b[0m         data \u001b[38;5;241m=\u001b[39m np\u001b[38;5;241m.\u001b[39masarray(data)\n\u001b[1;32m    736\u001b[0m     \u001b[38;5;28;01melse\u001b[39;00m:\n\u001b[0;32m--> 737\u001b[0m         data \u001b[38;5;241m=\u001b[39m \u001b[38;5;28;43mlist\u001b[39;49m\u001b[43m(\u001b[49m\u001b[43mdata\u001b[49m\u001b[43m)\u001b[49m\n\u001b[1;32m    738\u001b[0m \u001b[38;5;28;01mif\u001b[39;00m \u001b[38;5;28mlen\u001b[39m(data) \u001b[38;5;241m>\u001b[39m \u001b[38;5;241m0\u001b[39m:\n\u001b[1;32m    739\u001b[0m     \u001b[38;5;28;01mif\u001b[39;00m is_dataclass(data[\u001b[38;5;241m0\u001b[39m]):\n",
      "File \u001b[0;32m/Applications/miniconda3/lib/python3.9/site-packages/chembl_webresource_client/query_set.py:127\u001b[0m, in \u001b[0;36mQuerySet.__next__\u001b[0;34m(self)\u001b[0m\n\u001b[1;32m    126\u001b[0m \u001b[38;5;28;01mdef\u001b[39;00m \u001b[38;5;21m__next__\u001b[39m(\u001b[38;5;28mself\u001b[39m):\n\u001b[0;32m--> 127\u001b[0m     \u001b[38;5;28;01mreturn\u001b[39;00m \u001b[38;5;28;43mself\u001b[39;49m\u001b[38;5;241;43m.\u001b[39;49m\u001b[43mnext\u001b[49m\u001b[43m(\u001b[49m\u001b[43m)\u001b[49m\n",
      "File \u001b[0;32m/Applications/miniconda3/lib/python3.9/site-packages/chembl_webresource_client/query_set.py:115\u001b[0m, in \u001b[0;36mQuerySet.next\u001b[0;34m(self)\u001b[0m\n\u001b[1;32m    113\u001b[0m     \u001b[38;5;28mself\u001b[39m\u001b[38;5;241m.\u001b[39mchunk \u001b[38;5;241m=\u001b[39m \u001b[38;5;28mself\u001b[39m\u001b[38;5;241m.\u001b[39mquery\u001b[38;5;241m.\u001b[39mget_page()\n\u001b[1;32m    114\u001b[0m \u001b[38;5;28;01mif\u001b[39;00m \u001b[38;5;129;01mnot\u001b[39;00m \u001b[38;5;28mself\u001b[39m\u001b[38;5;241m.\u001b[39mchunk \u001b[38;5;129;01mor\u001b[39;00m \u001b[38;5;28mself\u001b[39m\u001b[38;5;241m.\u001b[39mcurrent_index \u001b[38;5;241m>\u001b[39m\u001b[38;5;241m=\u001b[39m \u001b[38;5;28mlen\u001b[39m(\u001b[38;5;28mself\u001b[39m\u001b[38;5;241m.\u001b[39mchunk):\n\u001b[0;32m--> 115\u001b[0m     \u001b[38;5;28mself\u001b[39m\u001b[38;5;241m.\u001b[39mchunk \u001b[38;5;241m=\u001b[39m \u001b[38;5;28;43mself\u001b[39;49m\u001b[38;5;241;43m.\u001b[39;49m\u001b[43mquery\u001b[49m\u001b[38;5;241;43m.\u001b[39;49m\u001b[43mnext_page\u001b[49m\u001b[43m(\u001b[49m\u001b[43m)\u001b[49m\n\u001b[1;32m    116\u001b[0m     \u001b[38;5;28;01mif\u001b[39;00m \u001b[38;5;129;01mnot\u001b[39;00m \u001b[38;5;28mself\u001b[39m\u001b[38;5;241m.\u001b[39mchunk:\n\u001b[1;32m    117\u001b[0m         \u001b[38;5;28;01mraise\u001b[39;00m \u001b[38;5;167;01mStopIteration\u001b[39;00m\n",
      "File \u001b[0;32m/Applications/miniconda3/lib/python3.9/site-packages/chembl_webresource_client/url_query.py:434\u001b[0m, in \u001b[0;36mUrlQuery.next_page\u001b[0;34m(self)\u001b[0m\n\u001b[1;32m    432\u001b[0m start \u001b[38;5;241m=\u001b[39m \u001b[38;5;28mself\u001b[39m\u001b[38;5;241m.\u001b[39mstart\n\u001b[1;32m    433\u001b[0m \u001b[38;5;28mself\u001b[39m\u001b[38;5;241m.\u001b[39mcurrent_index \u001b[38;5;241m=\u001b[39m \u001b[38;5;28mint\u001b[39m(start \u001b[38;5;241m+\u001b[39m \u001b[38;5;28mself\u001b[39m\u001b[38;5;241m.\u001b[39mlimit \u001b[38;5;241m*\u001b[39m (\u001b[38;5;28mself\u001b[39m\u001b[38;5;241m.\u001b[39mcurrent_page \u001b[38;5;241m+\u001b[39m \u001b[38;5;241m1\u001b[39m))\n\u001b[0;32m--> 434\u001b[0m \u001b[38;5;28;01mreturn\u001b[39;00m \u001b[38;5;28;43mself\u001b[39;49m\u001b[38;5;241;43m.\u001b[39;49m\u001b[43mget_page\u001b[49m\u001b[43m(\u001b[49m\u001b[43m)\u001b[49m\n",
      "File \u001b[0;32m/Applications/miniconda3/lib/python3.9/site-packages/chembl_webresource_client/url_query.py:389\u001b[0m, in \u001b[0;36mUrlQuery.get_page\u001b[0;34m(self)\u001b[0m\n\u001b[1;32m    387\u001b[0m data \u001b[38;5;241m=\u001b[39m \u001b[38;5;28mself\u001b[39m\u001b[38;5;241m.\u001b[39m_prepare_url_params()\n\u001b[1;32m    388\u001b[0m \u001b[38;5;28;01mwith\u001b[39;00m \u001b[38;5;28mself\u001b[39m\u001b[38;5;241m.\u001b[39m_get_session() \u001b[38;5;28;01mas\u001b[39;00m session:\n\u001b[0;32m--> 389\u001b[0m     res \u001b[38;5;241m=\u001b[39m \u001b[43msession\u001b[49m\u001b[38;5;241;43m.\u001b[39;49m\u001b[43mpost\u001b[49m\u001b[43m(\u001b[49m\u001b[38;5;28;43mself\u001b[39;49m\u001b[38;5;241;43m.\u001b[39;49m\u001b[43mbase_url\u001b[49m\u001b[43m \u001b[49m\u001b[38;5;241;43m+\u001b[39;49m\u001b[43m \u001b[49m\u001b[38;5;124;43m'\u001b[39;49m\u001b[38;5;124;43m.\u001b[39;49m\u001b[38;5;124;43m'\u001b[39;49m\u001b[43m \u001b[49m\u001b[38;5;241;43m+\u001b[39;49m\u001b[43m \u001b[49m\u001b[38;5;28;43mself\u001b[39;49m\u001b[38;5;241;43m.\u001b[39;49m\u001b[43mfrmt\u001b[49m\u001b[43m,\u001b[49m\u001b[43m \u001b[49m\u001b[43mjson\u001b[49m\u001b[38;5;241;43m=\u001b[39;49m\u001b[43mdata\u001b[49m\u001b[43m,\u001b[49m\u001b[43m \u001b[49m\u001b[43mtimeout\u001b[49m\u001b[38;5;241;43m=\u001b[39;49m\u001b[38;5;28;43mself\u001b[39;49m\u001b[38;5;241;43m.\u001b[39;49m\u001b[43mtimeout\u001b[49m\u001b[43m)\u001b[49m\n\u001b[1;32m    390\u001b[0m \u001b[38;5;28mself\u001b[39m\u001b[38;5;241m.\u001b[39mlogger\u001b[38;5;241m.\u001b[39minfo(res\u001b[38;5;241m.\u001b[39murl)\n\u001b[1;32m    391\u001b[0m \u001b[38;5;28mself\u001b[39m\u001b[38;5;241m.\u001b[39mlogger\u001b[38;5;241m.\u001b[39minfo(data)\n",
      "File \u001b[0;32m/Applications/miniconda3/lib/python3.9/site-packages/requests/sessions.py:577\u001b[0m, in \u001b[0;36mSession.post\u001b[0;34m(self, url, data, json, **kwargs)\u001b[0m\n\u001b[1;32m    566\u001b[0m \u001b[38;5;28;01mdef\u001b[39;00m \u001b[38;5;21mpost\u001b[39m(\u001b[38;5;28mself\u001b[39m, url, data\u001b[38;5;241m=\u001b[39m\u001b[38;5;28;01mNone\u001b[39;00m, json\u001b[38;5;241m=\u001b[39m\u001b[38;5;28;01mNone\u001b[39;00m, \u001b[38;5;241m*\u001b[39m\u001b[38;5;241m*\u001b[39mkwargs):\n\u001b[1;32m    567\u001b[0m     \u001b[38;5;124mr\u001b[39m\u001b[38;5;124;03m\"\"\"Sends a POST request. Returns :class:`Response` object.\u001b[39;00m\n\u001b[1;32m    568\u001b[0m \n\u001b[1;32m    569\u001b[0m \u001b[38;5;124;03m    :param url: URL for the new :class:`Request` object.\u001b[39;00m\n\u001b[0;32m   (...)\u001b[0m\n\u001b[1;32m    574\u001b[0m \u001b[38;5;124;03m    :rtype: requests.Response\u001b[39;00m\n\u001b[1;32m    575\u001b[0m \u001b[38;5;124;03m    \"\"\"\u001b[39;00m\n\u001b[0;32m--> 577\u001b[0m     \u001b[38;5;28;01mreturn\u001b[39;00m \u001b[38;5;28;43mself\u001b[39;49m\u001b[38;5;241;43m.\u001b[39;49m\u001b[43mrequest\u001b[49m\u001b[43m(\u001b[49m\u001b[38;5;124;43m'\u001b[39;49m\u001b[38;5;124;43mPOST\u001b[39;49m\u001b[38;5;124;43m'\u001b[39;49m\u001b[43m,\u001b[49m\u001b[43m \u001b[49m\u001b[43murl\u001b[49m\u001b[43m,\u001b[49m\u001b[43m \u001b[49m\u001b[43mdata\u001b[49m\u001b[38;5;241;43m=\u001b[39;49m\u001b[43mdata\u001b[49m\u001b[43m,\u001b[49m\u001b[43m \u001b[49m\u001b[43mjson\u001b[49m\u001b[38;5;241;43m=\u001b[39;49m\u001b[43mjson\u001b[49m\u001b[43m,\u001b[49m\u001b[43m \u001b[49m\u001b[38;5;241;43m*\u001b[39;49m\u001b[38;5;241;43m*\u001b[39;49m\u001b[43mkwargs\u001b[49m\u001b[43m)\u001b[49m\n",
      "File \u001b[0;32m/Applications/miniconda3/lib/python3.9/site-packages/requests_cache/session.py:101\u001b[0m, in \u001b[0;36mCacheMixin.request\u001b[0;34m(self, method, url, params, data, json, expire_after, **kwargs)\u001b[0m\n\u001b[1;32m     73\u001b[0m \u001b[38;5;124;03m\"\"\"This method prepares and sends a request while automatically performing any necessary\u001b[39;00m\n\u001b[1;32m     74\u001b[0m \u001b[38;5;124;03mcaching operations. This will be called by any other method-specific ``requests`` functions\u001b[39;00m\n\u001b[1;32m     75\u001b[0m \u001b[38;5;124;03m(get, post, etc.). This does not include prepared requests, which will still be cached via\u001b[39;00m\n\u001b[0;32m   (...)\u001b[0m\n\u001b[1;32m     98\u001b[0m \n\u001b[1;32m     99\u001b[0m \u001b[38;5;124;03m\"\"\"\u001b[39;00m\n\u001b[1;32m    100\u001b[0m \u001b[38;5;28;01mwith\u001b[39;00m \u001b[38;5;28mself\u001b[39m\u001b[38;5;241m.\u001b[39mrequest_expire_after(expire_after), patch_form_boundary(\u001b[38;5;241m*\u001b[39m\u001b[38;5;241m*\u001b[39mkwargs):\n\u001b[0;32m--> 101\u001b[0m     \u001b[38;5;28;01mreturn\u001b[39;00m \u001b[38;5;28;43msuper\u001b[39;49m\u001b[43m(\u001b[49m\u001b[43m)\u001b[49m\u001b[38;5;241;43m.\u001b[39;49m\u001b[43mrequest\u001b[49m\u001b[43m(\u001b[49m\n\u001b[1;32m    102\u001b[0m \u001b[43m        \u001b[49m\u001b[43mmethod\u001b[49m\u001b[43m,\u001b[49m\n\u001b[1;32m    103\u001b[0m \u001b[43m        \u001b[49m\u001b[43murl\u001b[49m\u001b[43m,\u001b[49m\n\u001b[1;32m    104\u001b[0m \u001b[43m        \u001b[49m\u001b[43mparams\u001b[49m\u001b[38;5;241;43m=\u001b[39;49m\u001b[43mnormalize_dict\u001b[49m\u001b[43m(\u001b[49m\u001b[43mparams\u001b[49m\u001b[43m)\u001b[49m\u001b[43m,\u001b[49m\n\u001b[1;32m    105\u001b[0m \u001b[43m        \u001b[49m\u001b[43mdata\u001b[49m\u001b[38;5;241;43m=\u001b[39;49m\u001b[43mnormalize_dict\u001b[49m\u001b[43m(\u001b[49m\u001b[43mdata\u001b[49m\u001b[43m)\u001b[49m\u001b[43m,\u001b[49m\n\u001b[1;32m    106\u001b[0m \u001b[43m        \u001b[49m\u001b[43mjson\u001b[49m\u001b[38;5;241;43m=\u001b[39;49m\u001b[43mnormalize_dict\u001b[49m\u001b[43m(\u001b[49m\u001b[43mjson\u001b[49m\u001b[43m)\u001b[49m\u001b[43m,\u001b[49m\n\u001b[1;32m    107\u001b[0m \u001b[43m        \u001b[49m\u001b[38;5;241;43m*\u001b[39;49m\u001b[38;5;241;43m*\u001b[39;49m\u001b[43mkwargs\u001b[49m\u001b[43m,\u001b[49m\n\u001b[1;32m    108\u001b[0m \u001b[43m    \u001b[49m\u001b[43m)\u001b[49m\n",
      "File \u001b[0;32m/Applications/miniconda3/lib/python3.9/site-packages/requests/sessions.py:529\u001b[0m, in \u001b[0;36mSession.request\u001b[0;34m(self, method, url, params, data, headers, cookies, files, auth, timeout, allow_redirects, proxies, hooks, stream, verify, cert, json)\u001b[0m\n\u001b[1;32m    524\u001b[0m send_kwargs \u001b[38;5;241m=\u001b[39m {\n\u001b[1;32m    525\u001b[0m     \u001b[38;5;124m'\u001b[39m\u001b[38;5;124mtimeout\u001b[39m\u001b[38;5;124m'\u001b[39m: timeout,\n\u001b[1;32m    526\u001b[0m     \u001b[38;5;124m'\u001b[39m\u001b[38;5;124mallow_redirects\u001b[39m\u001b[38;5;124m'\u001b[39m: allow_redirects,\n\u001b[1;32m    527\u001b[0m }\n\u001b[1;32m    528\u001b[0m send_kwargs\u001b[38;5;241m.\u001b[39mupdate(settings)\n\u001b[0;32m--> 529\u001b[0m resp \u001b[38;5;241m=\u001b[39m \u001b[38;5;28;43mself\u001b[39;49m\u001b[38;5;241;43m.\u001b[39;49m\u001b[43msend\u001b[49m\u001b[43m(\u001b[49m\u001b[43mprep\u001b[49m\u001b[43m,\u001b[49m\u001b[43m \u001b[49m\u001b[38;5;241;43m*\u001b[39;49m\u001b[38;5;241;43m*\u001b[39;49m\u001b[43msend_kwargs\u001b[49m\u001b[43m)\u001b[49m\n\u001b[1;32m    531\u001b[0m \u001b[38;5;28;01mreturn\u001b[39;00m resp\n",
      "File \u001b[0;32m/Applications/miniconda3/lib/python3.9/site-packages/requests_cache/session.py:136\u001b[0m, in \u001b[0;36mCacheMixin.send\u001b[0;34m(self, request, **kwargs)\u001b[0m\n\u001b[1;32m    134\u001b[0m     response \u001b[38;5;241m=\u001b[39m \u001b[38;5;28mself\u001b[39m\u001b[38;5;241m.\u001b[39m_resend_and_ignore(request, actions, \u001b[38;5;241m*\u001b[39m\u001b[38;5;241m*\u001b[39mkwargs) \u001b[38;5;129;01mor\u001b[39;00m response\n\u001b[1;32m    135\u001b[0m \u001b[38;5;28;01melif\u001b[39;00m is_expired:\n\u001b[0;32m--> 136\u001b[0m     response \u001b[38;5;241m=\u001b[39m \u001b[38;5;28;43mself\u001b[39;49m\u001b[38;5;241;43m.\u001b[39;49m\u001b[43m_resend\u001b[49m\u001b[43m(\u001b[49m\u001b[43mrequest\u001b[49m\u001b[43m,\u001b[49m\u001b[43m \u001b[49m\u001b[43mactions\u001b[49m\u001b[43m,\u001b[49m\u001b[43m \u001b[49m\u001b[38;5;241;43m*\u001b[39;49m\u001b[38;5;241;43m*\u001b[39;49m\u001b[43mkwargs\u001b[49m\u001b[43m)\u001b[49m\n\u001b[1;32m    138\u001b[0m \u001b[38;5;66;03m# Dispatch any hooks here, because they are removed before pickling\u001b[39;00m\n\u001b[1;32m    139\u001b[0m response \u001b[38;5;241m=\u001b[39m dispatch_hook(\u001b[38;5;124m'\u001b[39m\u001b[38;5;124mresponse\u001b[39m\u001b[38;5;124m'\u001b[39m, request\u001b[38;5;241m.\u001b[39mhooks, response, \u001b[38;5;241m*\u001b[39m\u001b[38;5;241m*\u001b[39mkwargs)\n",
      "File \u001b[0;32m/Applications/miniconda3/lib/python3.9/site-packages/requests_cache/session.py:171\u001b[0m, in \u001b[0;36mCacheMixin._resend\u001b[0;34m(self, request, actions, **kwargs)\u001b[0m\n\u001b[1;32m    169\u001b[0m logger\u001b[38;5;241m.\u001b[39mdebug(\u001b[38;5;124m'\u001b[39m\u001b[38;5;124mExpired response; attempting to re-send request\u001b[39m\u001b[38;5;124m'\u001b[39m)\n\u001b[1;32m    170\u001b[0m \u001b[38;5;28;01mtry\u001b[39;00m:\n\u001b[0;32m--> 171\u001b[0m     \u001b[38;5;28;01mreturn\u001b[39;00m \u001b[38;5;28;43mself\u001b[39;49m\u001b[38;5;241;43m.\u001b[39;49m\u001b[43m_send_and_cache\u001b[49m\u001b[43m(\u001b[49m\u001b[43mrequest\u001b[49m\u001b[43m,\u001b[49m\u001b[43m \u001b[49m\u001b[43mactions\u001b[49m\u001b[43m,\u001b[49m\u001b[43m \u001b[49m\u001b[38;5;241;43m*\u001b[39;49m\u001b[38;5;241;43m*\u001b[39;49m\u001b[43mkwargs\u001b[49m\u001b[43m)\u001b[49m\n\u001b[1;32m    172\u001b[0m \u001b[38;5;28;01mexcept\u001b[39;00m \u001b[38;5;167;01mException\u001b[39;00m:\n\u001b[1;32m    173\u001b[0m     \u001b[38;5;28mself\u001b[39m\u001b[38;5;241m.\u001b[39mcache\u001b[38;5;241m.\u001b[39mdelete(actions\u001b[38;5;241m.\u001b[39mcache_key)\n",
      "File \u001b[0;32m/Applications/miniconda3/lib/python3.9/site-packages/requests_cache/session.py:156\u001b[0m, in \u001b[0;36mCacheMixin._send_and_cache\u001b[0;34m(self, request, actions, **kwargs)\u001b[0m\n\u001b[1;32m    154\u001b[0m \u001b[38;5;28;01mdef\u001b[39;00m \u001b[38;5;21m_send_and_cache\u001b[39m(\u001b[38;5;28mself\u001b[39m, request: PreparedRequest, actions: CacheActions, \u001b[38;5;241m*\u001b[39m\u001b[38;5;241m*\u001b[39mkwargs):\n\u001b[1;32m    155\u001b[0m     \u001b[38;5;124;03m\"\"\"Send the request and cache the response, unless disabled by settings or headers\"\"\"\u001b[39;00m\n\u001b[0;32m--> 156\u001b[0m     response \u001b[38;5;241m=\u001b[39m \u001b[38;5;28;43msuper\u001b[39;49m\u001b[43m(\u001b[49m\u001b[43m)\u001b[49m\u001b[38;5;241;43m.\u001b[39;49m\u001b[43msend\u001b[49m\u001b[43m(\u001b[49m\u001b[43mrequest\u001b[49m\u001b[43m,\u001b[49m\u001b[43m \u001b[49m\u001b[38;5;241;43m*\u001b[39;49m\u001b[38;5;241;43m*\u001b[39;49m\u001b[43mkwargs\u001b[49m\u001b[43m)\u001b[49m\n\u001b[1;32m    157\u001b[0m     actions\u001b[38;5;241m.\u001b[39mupdate_from_response(response)\n\u001b[1;32m    159\u001b[0m     \u001b[38;5;28;01mif\u001b[39;00m \u001b[38;5;28mself\u001b[39m\u001b[38;5;241m.\u001b[39m_is_cacheable(response, actions):\n",
      "File \u001b[0;32m/Applications/miniconda3/lib/python3.9/site-packages/requests/sessions.py:645\u001b[0m, in \u001b[0;36mSession.send\u001b[0;34m(self, request, **kwargs)\u001b[0m\n\u001b[1;32m    642\u001b[0m start \u001b[38;5;241m=\u001b[39m preferred_clock()\n\u001b[1;32m    644\u001b[0m \u001b[38;5;66;03m# Send the request\u001b[39;00m\n\u001b[0;32m--> 645\u001b[0m r \u001b[38;5;241m=\u001b[39m \u001b[43madapter\u001b[49m\u001b[38;5;241;43m.\u001b[39;49m\u001b[43msend\u001b[49m\u001b[43m(\u001b[49m\u001b[43mrequest\u001b[49m\u001b[43m,\u001b[49m\u001b[43m \u001b[49m\u001b[38;5;241;43m*\u001b[39;49m\u001b[38;5;241;43m*\u001b[39;49m\u001b[43mkwargs\u001b[49m\u001b[43m)\u001b[49m\n\u001b[1;32m    647\u001b[0m \u001b[38;5;66;03m# Total elapsed time of the request (approximately)\u001b[39;00m\n\u001b[1;32m    648\u001b[0m elapsed \u001b[38;5;241m=\u001b[39m preferred_clock() \u001b[38;5;241m-\u001b[39m start\n",
      "File \u001b[0;32m/Applications/miniconda3/lib/python3.9/site-packages/requests/adapters.py:440\u001b[0m, in \u001b[0;36mHTTPAdapter.send\u001b[0;34m(self, request, stream, timeout, verify, cert, proxies)\u001b[0m\n\u001b[1;32m    438\u001b[0m \u001b[38;5;28;01mtry\u001b[39;00m:\n\u001b[1;32m    439\u001b[0m     \u001b[38;5;28;01mif\u001b[39;00m \u001b[38;5;129;01mnot\u001b[39;00m chunked:\n\u001b[0;32m--> 440\u001b[0m         resp \u001b[38;5;241m=\u001b[39m \u001b[43mconn\u001b[49m\u001b[38;5;241;43m.\u001b[39;49m\u001b[43murlopen\u001b[49m\u001b[43m(\u001b[49m\n\u001b[1;32m    441\u001b[0m \u001b[43m            \u001b[49m\u001b[43mmethod\u001b[49m\u001b[38;5;241;43m=\u001b[39;49m\u001b[43mrequest\u001b[49m\u001b[38;5;241;43m.\u001b[39;49m\u001b[43mmethod\u001b[49m\u001b[43m,\u001b[49m\n\u001b[1;32m    442\u001b[0m \u001b[43m            \u001b[49m\u001b[43murl\u001b[49m\u001b[38;5;241;43m=\u001b[39;49m\u001b[43murl\u001b[49m\u001b[43m,\u001b[49m\n\u001b[1;32m    443\u001b[0m \u001b[43m            \u001b[49m\u001b[43mbody\u001b[49m\u001b[38;5;241;43m=\u001b[39;49m\u001b[43mrequest\u001b[49m\u001b[38;5;241;43m.\u001b[39;49m\u001b[43mbody\u001b[49m\u001b[43m,\u001b[49m\n\u001b[1;32m    444\u001b[0m \u001b[43m            \u001b[49m\u001b[43mheaders\u001b[49m\u001b[38;5;241;43m=\u001b[39;49m\u001b[43mrequest\u001b[49m\u001b[38;5;241;43m.\u001b[39;49m\u001b[43mheaders\u001b[49m\u001b[43m,\u001b[49m\n\u001b[1;32m    445\u001b[0m \u001b[43m            \u001b[49m\u001b[43mredirect\u001b[49m\u001b[38;5;241;43m=\u001b[39;49m\u001b[38;5;28;43;01mFalse\u001b[39;49;00m\u001b[43m,\u001b[49m\n\u001b[1;32m    446\u001b[0m \u001b[43m            \u001b[49m\u001b[43massert_same_host\u001b[49m\u001b[38;5;241;43m=\u001b[39;49m\u001b[38;5;28;43;01mFalse\u001b[39;49;00m\u001b[43m,\u001b[49m\n\u001b[1;32m    447\u001b[0m \u001b[43m            \u001b[49m\u001b[43mpreload_content\u001b[49m\u001b[38;5;241;43m=\u001b[39;49m\u001b[38;5;28;43;01mFalse\u001b[39;49;00m\u001b[43m,\u001b[49m\n\u001b[1;32m    448\u001b[0m \u001b[43m            \u001b[49m\u001b[43mdecode_content\u001b[49m\u001b[38;5;241;43m=\u001b[39;49m\u001b[38;5;28;43;01mFalse\u001b[39;49;00m\u001b[43m,\u001b[49m\n\u001b[1;32m    449\u001b[0m \u001b[43m            \u001b[49m\u001b[43mretries\u001b[49m\u001b[38;5;241;43m=\u001b[39;49m\u001b[38;5;28;43mself\u001b[39;49m\u001b[38;5;241;43m.\u001b[39;49m\u001b[43mmax_retries\u001b[49m\u001b[43m,\u001b[49m\n\u001b[1;32m    450\u001b[0m \u001b[43m            \u001b[49m\u001b[43mtimeout\u001b[49m\u001b[38;5;241;43m=\u001b[39;49m\u001b[43mtimeout\u001b[49m\n\u001b[1;32m    451\u001b[0m \u001b[43m        \u001b[49m\u001b[43m)\u001b[49m\n\u001b[1;32m    453\u001b[0m     \u001b[38;5;66;03m# Send the request.\u001b[39;00m\n\u001b[1;32m    454\u001b[0m     \u001b[38;5;28;01melse\u001b[39;00m:\n\u001b[1;32m    455\u001b[0m         \u001b[38;5;28;01mif\u001b[39;00m \u001b[38;5;28mhasattr\u001b[39m(conn, \u001b[38;5;124m'\u001b[39m\u001b[38;5;124mproxy_pool\u001b[39m\u001b[38;5;124m'\u001b[39m):\n",
      "File \u001b[0;32m/Applications/miniconda3/lib/python3.9/site-packages/urllib3/connectionpool.py:703\u001b[0m, in \u001b[0;36mHTTPConnectionPool.urlopen\u001b[0;34m(self, method, url, body, headers, retries, redirect, assert_same_host, timeout, pool_timeout, release_conn, chunked, body_pos, **response_kw)\u001b[0m\n\u001b[1;32m    700\u001b[0m     \u001b[38;5;28mself\u001b[39m\u001b[38;5;241m.\u001b[39m_prepare_proxy(conn)\n\u001b[1;32m    702\u001b[0m \u001b[38;5;66;03m# Make the request on the httplib connection object.\u001b[39;00m\n\u001b[0;32m--> 703\u001b[0m httplib_response \u001b[38;5;241m=\u001b[39m \u001b[38;5;28;43mself\u001b[39;49m\u001b[38;5;241;43m.\u001b[39;49m\u001b[43m_make_request\u001b[49m\u001b[43m(\u001b[49m\n\u001b[1;32m    704\u001b[0m \u001b[43m    \u001b[49m\u001b[43mconn\u001b[49m\u001b[43m,\u001b[49m\n\u001b[1;32m    705\u001b[0m \u001b[43m    \u001b[49m\u001b[43mmethod\u001b[49m\u001b[43m,\u001b[49m\n\u001b[1;32m    706\u001b[0m \u001b[43m    \u001b[49m\u001b[43murl\u001b[49m\u001b[43m,\u001b[49m\n\u001b[1;32m    707\u001b[0m \u001b[43m    \u001b[49m\u001b[43mtimeout\u001b[49m\u001b[38;5;241;43m=\u001b[39;49m\u001b[43mtimeout_obj\u001b[49m\u001b[43m,\u001b[49m\n\u001b[1;32m    708\u001b[0m \u001b[43m    \u001b[49m\u001b[43mbody\u001b[49m\u001b[38;5;241;43m=\u001b[39;49m\u001b[43mbody\u001b[49m\u001b[43m,\u001b[49m\n\u001b[1;32m    709\u001b[0m \u001b[43m    \u001b[49m\u001b[43mheaders\u001b[49m\u001b[38;5;241;43m=\u001b[39;49m\u001b[43mheaders\u001b[49m\u001b[43m,\u001b[49m\n\u001b[1;32m    710\u001b[0m \u001b[43m    \u001b[49m\u001b[43mchunked\u001b[49m\u001b[38;5;241;43m=\u001b[39;49m\u001b[43mchunked\u001b[49m\u001b[43m,\u001b[49m\n\u001b[1;32m    711\u001b[0m \u001b[43m\u001b[49m\u001b[43m)\u001b[49m\n\u001b[1;32m    713\u001b[0m \u001b[38;5;66;03m# If we're going to release the connection in ``finally:``, then\u001b[39;00m\n\u001b[1;32m    714\u001b[0m \u001b[38;5;66;03m# the response doesn't need to know about the connection. Otherwise\u001b[39;00m\n\u001b[1;32m    715\u001b[0m \u001b[38;5;66;03m# it will also try to release it and we'll have a double-release\u001b[39;00m\n\u001b[1;32m    716\u001b[0m \u001b[38;5;66;03m# mess.\u001b[39;00m\n\u001b[1;32m    717\u001b[0m response_conn \u001b[38;5;241m=\u001b[39m conn \u001b[38;5;28;01mif\u001b[39;00m \u001b[38;5;129;01mnot\u001b[39;00m release_conn \u001b[38;5;28;01melse\u001b[39;00m \u001b[38;5;28;01mNone\u001b[39;00m\n",
      "File \u001b[0;32m/Applications/miniconda3/lib/python3.9/site-packages/urllib3/connectionpool.py:449\u001b[0m, in \u001b[0;36mHTTPConnectionPool._make_request\u001b[0;34m(self, conn, method, url, timeout, chunked, **httplib_request_kw)\u001b[0m\n\u001b[1;32m    444\u001b[0m             httplib_response \u001b[38;5;241m=\u001b[39m conn\u001b[38;5;241m.\u001b[39mgetresponse()\n\u001b[1;32m    445\u001b[0m         \u001b[38;5;28;01mexcept\u001b[39;00m \u001b[38;5;167;01mBaseException\u001b[39;00m \u001b[38;5;28;01mas\u001b[39;00m e:\n\u001b[1;32m    446\u001b[0m             \u001b[38;5;66;03m# Remove the TypeError from the exception chain in\u001b[39;00m\n\u001b[1;32m    447\u001b[0m             \u001b[38;5;66;03m# Python 3 (including for exceptions like SystemExit).\u001b[39;00m\n\u001b[1;32m    448\u001b[0m             \u001b[38;5;66;03m# Otherwise it looks like a bug in the code.\u001b[39;00m\n\u001b[0;32m--> 449\u001b[0m             \u001b[43msix\u001b[49m\u001b[38;5;241;43m.\u001b[39;49m\u001b[43mraise_from\u001b[49m\u001b[43m(\u001b[49m\u001b[43me\u001b[49m\u001b[43m,\u001b[49m\u001b[43m \u001b[49m\u001b[38;5;28;43;01mNone\u001b[39;49;00m\u001b[43m)\u001b[49m\n\u001b[1;32m    450\u001b[0m \u001b[38;5;28;01mexcept\u001b[39;00m (SocketTimeout, BaseSSLError, SocketError) \u001b[38;5;28;01mas\u001b[39;00m e:\n\u001b[1;32m    451\u001b[0m     \u001b[38;5;28mself\u001b[39m\u001b[38;5;241m.\u001b[39m_raise_timeout(err\u001b[38;5;241m=\u001b[39me, url\u001b[38;5;241m=\u001b[39murl, timeout_value\u001b[38;5;241m=\u001b[39mread_timeout)\n",
      "File \u001b[0;32m<string>:3\u001b[0m, in \u001b[0;36mraise_from\u001b[0;34m(value, from_value)\u001b[0m\n",
      "File \u001b[0;32m/Applications/miniconda3/lib/python3.9/site-packages/urllib3/connectionpool.py:444\u001b[0m, in \u001b[0;36mHTTPConnectionPool._make_request\u001b[0;34m(self, conn, method, url, timeout, chunked, **httplib_request_kw)\u001b[0m\n\u001b[1;32m    441\u001b[0m \u001b[38;5;28;01mexcept\u001b[39;00m \u001b[38;5;167;01mTypeError\u001b[39;00m:\n\u001b[1;32m    442\u001b[0m     \u001b[38;5;66;03m# Python 3\u001b[39;00m\n\u001b[1;32m    443\u001b[0m     \u001b[38;5;28;01mtry\u001b[39;00m:\n\u001b[0;32m--> 444\u001b[0m         httplib_response \u001b[38;5;241m=\u001b[39m \u001b[43mconn\u001b[49m\u001b[38;5;241;43m.\u001b[39;49m\u001b[43mgetresponse\u001b[49m\u001b[43m(\u001b[49m\u001b[43m)\u001b[49m\n\u001b[1;32m    445\u001b[0m     \u001b[38;5;28;01mexcept\u001b[39;00m \u001b[38;5;167;01mBaseException\u001b[39;00m \u001b[38;5;28;01mas\u001b[39;00m e:\n\u001b[1;32m    446\u001b[0m         \u001b[38;5;66;03m# Remove the TypeError from the exception chain in\u001b[39;00m\n\u001b[1;32m    447\u001b[0m         \u001b[38;5;66;03m# Python 3 (including for exceptions like SystemExit).\u001b[39;00m\n\u001b[1;32m    448\u001b[0m         \u001b[38;5;66;03m# Otherwise it looks like a bug in the code.\u001b[39;00m\n\u001b[1;32m    449\u001b[0m         six\u001b[38;5;241m.\u001b[39mraise_from(e, \u001b[38;5;28;01mNone\u001b[39;00m)\n",
      "File \u001b[0;32m/Applications/miniconda3/lib/python3.9/http/client.py:1377\u001b[0m, in \u001b[0;36mHTTPConnection.getresponse\u001b[0;34m(self)\u001b[0m\n\u001b[1;32m   1375\u001b[0m \u001b[38;5;28;01mtry\u001b[39;00m:\n\u001b[1;32m   1376\u001b[0m     \u001b[38;5;28;01mtry\u001b[39;00m:\n\u001b[0;32m-> 1377\u001b[0m         \u001b[43mresponse\u001b[49m\u001b[38;5;241;43m.\u001b[39;49m\u001b[43mbegin\u001b[49m\u001b[43m(\u001b[49m\u001b[43m)\u001b[49m\n\u001b[1;32m   1378\u001b[0m     \u001b[38;5;28;01mexcept\u001b[39;00m \u001b[38;5;167;01mConnectionError\u001b[39;00m:\n\u001b[1;32m   1379\u001b[0m         \u001b[38;5;28mself\u001b[39m\u001b[38;5;241m.\u001b[39mclose()\n",
      "File \u001b[0;32m/Applications/miniconda3/lib/python3.9/http/client.py:320\u001b[0m, in \u001b[0;36mHTTPResponse.begin\u001b[0;34m(self)\u001b[0m\n\u001b[1;32m    318\u001b[0m \u001b[38;5;66;03m# read until we get a non-100 response\u001b[39;00m\n\u001b[1;32m    319\u001b[0m \u001b[38;5;28;01mwhile\u001b[39;00m \u001b[38;5;28;01mTrue\u001b[39;00m:\n\u001b[0;32m--> 320\u001b[0m     version, status, reason \u001b[38;5;241m=\u001b[39m \u001b[38;5;28;43mself\u001b[39;49m\u001b[38;5;241;43m.\u001b[39;49m\u001b[43m_read_status\u001b[49m\u001b[43m(\u001b[49m\u001b[43m)\u001b[49m\n\u001b[1;32m    321\u001b[0m     \u001b[38;5;28;01mif\u001b[39;00m status \u001b[38;5;241m!=\u001b[39m CONTINUE:\n\u001b[1;32m    322\u001b[0m         \u001b[38;5;28;01mbreak\u001b[39;00m\n",
      "File \u001b[0;32m/Applications/miniconda3/lib/python3.9/http/client.py:281\u001b[0m, in \u001b[0;36mHTTPResponse._read_status\u001b[0;34m(self)\u001b[0m\n\u001b[1;32m    280\u001b[0m \u001b[38;5;28;01mdef\u001b[39;00m \u001b[38;5;21m_read_status\u001b[39m(\u001b[38;5;28mself\u001b[39m):\n\u001b[0;32m--> 281\u001b[0m     line \u001b[38;5;241m=\u001b[39m \u001b[38;5;28mstr\u001b[39m(\u001b[38;5;28;43mself\u001b[39;49m\u001b[38;5;241;43m.\u001b[39;49m\u001b[43mfp\u001b[49m\u001b[38;5;241;43m.\u001b[39;49m\u001b[43mreadline\u001b[49m\u001b[43m(\u001b[49m\u001b[43m_MAXLINE\u001b[49m\u001b[43m \u001b[49m\u001b[38;5;241;43m+\u001b[39;49m\u001b[43m \u001b[49m\u001b[38;5;241;43m1\u001b[39;49m\u001b[43m)\u001b[49m, \u001b[38;5;124m\"\u001b[39m\u001b[38;5;124miso-8859-1\u001b[39m\u001b[38;5;124m\"\u001b[39m)\n\u001b[1;32m    282\u001b[0m     \u001b[38;5;28;01mif\u001b[39;00m \u001b[38;5;28mlen\u001b[39m(line) \u001b[38;5;241m>\u001b[39m _MAXLINE:\n\u001b[1;32m    283\u001b[0m         \u001b[38;5;28;01mraise\u001b[39;00m LineTooLong(\u001b[38;5;124m\"\u001b[39m\u001b[38;5;124mstatus line\u001b[39m\u001b[38;5;124m\"\u001b[39m)\n",
      "File \u001b[0;32m/Applications/miniconda3/lib/python3.9/socket.py:704\u001b[0m, in \u001b[0;36mSocketIO.readinto\u001b[0;34m(self, b)\u001b[0m\n\u001b[1;32m    702\u001b[0m \u001b[38;5;28;01mwhile\u001b[39;00m \u001b[38;5;28;01mTrue\u001b[39;00m:\n\u001b[1;32m    703\u001b[0m     \u001b[38;5;28;01mtry\u001b[39;00m:\n\u001b[0;32m--> 704\u001b[0m         \u001b[38;5;28;01mreturn\u001b[39;00m \u001b[38;5;28;43mself\u001b[39;49m\u001b[38;5;241;43m.\u001b[39;49m\u001b[43m_sock\u001b[49m\u001b[38;5;241;43m.\u001b[39;49m\u001b[43mrecv_into\u001b[49m\u001b[43m(\u001b[49m\u001b[43mb\u001b[49m\u001b[43m)\u001b[49m\n\u001b[1;32m    705\u001b[0m     \u001b[38;5;28;01mexcept\u001b[39;00m timeout:\n\u001b[1;32m    706\u001b[0m         \u001b[38;5;28mself\u001b[39m\u001b[38;5;241m.\u001b[39m_timeout_occurred \u001b[38;5;241m=\u001b[39m \u001b[38;5;28;01mTrue\u001b[39;00m\n",
      "File \u001b[0;32m/Applications/miniconda3/lib/python3.9/ssl.py:1241\u001b[0m, in \u001b[0;36mSSLSocket.recv_into\u001b[0;34m(self, buffer, nbytes, flags)\u001b[0m\n\u001b[1;32m   1237\u001b[0m     \u001b[38;5;28;01mif\u001b[39;00m flags \u001b[38;5;241m!=\u001b[39m \u001b[38;5;241m0\u001b[39m:\n\u001b[1;32m   1238\u001b[0m         \u001b[38;5;28;01mraise\u001b[39;00m \u001b[38;5;167;01mValueError\u001b[39;00m(\n\u001b[1;32m   1239\u001b[0m           \u001b[38;5;124m\"\u001b[39m\u001b[38;5;124mnon-zero flags not allowed in calls to recv_into() on \u001b[39m\u001b[38;5;132;01m%s\u001b[39;00m\u001b[38;5;124m\"\u001b[39m \u001b[38;5;241m%\u001b[39m\n\u001b[1;32m   1240\u001b[0m           \u001b[38;5;28mself\u001b[39m\u001b[38;5;241m.\u001b[39m\u001b[38;5;18m__class__\u001b[39m)\n\u001b[0;32m-> 1241\u001b[0m     \u001b[38;5;28;01mreturn\u001b[39;00m \u001b[38;5;28;43mself\u001b[39;49m\u001b[38;5;241;43m.\u001b[39;49m\u001b[43mread\u001b[49m\u001b[43m(\u001b[49m\u001b[43mnbytes\u001b[49m\u001b[43m,\u001b[49m\u001b[43m \u001b[49m\u001b[43mbuffer\u001b[49m\u001b[43m)\u001b[49m\n\u001b[1;32m   1242\u001b[0m \u001b[38;5;28;01melse\u001b[39;00m:\n\u001b[1;32m   1243\u001b[0m     \u001b[38;5;28;01mreturn\u001b[39;00m \u001b[38;5;28msuper\u001b[39m()\u001b[38;5;241m.\u001b[39mrecv_into(buffer, nbytes, flags)\n",
      "File \u001b[0;32m/Applications/miniconda3/lib/python3.9/ssl.py:1099\u001b[0m, in \u001b[0;36mSSLSocket.read\u001b[0;34m(self, len, buffer)\u001b[0m\n\u001b[1;32m   1097\u001b[0m \u001b[38;5;28;01mtry\u001b[39;00m:\n\u001b[1;32m   1098\u001b[0m     \u001b[38;5;28;01mif\u001b[39;00m buffer \u001b[38;5;129;01mis\u001b[39;00m \u001b[38;5;129;01mnot\u001b[39;00m \u001b[38;5;28;01mNone\u001b[39;00m:\n\u001b[0;32m-> 1099\u001b[0m         \u001b[38;5;28;01mreturn\u001b[39;00m \u001b[38;5;28;43mself\u001b[39;49m\u001b[38;5;241;43m.\u001b[39;49m\u001b[43m_sslobj\u001b[49m\u001b[38;5;241;43m.\u001b[39;49m\u001b[43mread\u001b[49m\u001b[43m(\u001b[49m\u001b[38;5;28;43mlen\u001b[39;49m\u001b[43m,\u001b[49m\u001b[43m \u001b[49m\u001b[43mbuffer\u001b[49m\u001b[43m)\u001b[49m\n\u001b[1;32m   1100\u001b[0m     \u001b[38;5;28;01melse\u001b[39;00m:\n\u001b[1;32m   1101\u001b[0m         \u001b[38;5;28;01mreturn\u001b[39;00m \u001b[38;5;28mself\u001b[39m\u001b[38;5;241m.\u001b[39m_sslobj\u001b[38;5;241m.\u001b[39mread(\u001b[38;5;28mlen\u001b[39m)\n",
      "\u001b[0;31mKeyboardInterrupt\u001b[0m: "
     ]
    }
   ],
   "source": [
    "df1 = pd.DataFrame.from_dict(inhib_conc)\n",
    "df1"
   ]
  },
  {
   "cell_type": "code",
   "execution_count": null,
   "id": "39b8a81d",
   "metadata": {
    "slideshow": {
     "slide_type": "skip"
    }
   },
   "outputs": [],
   "source": [
    "# Save and export selected data to Excel\n",
    "df1.to_csv('HIV_Bioactivity_dataset.csv', index = False)"
   ]
  },
  {
   "cell_type": "code",
   "execution_count": null,
   "id": "abbf4268",
   "metadata": {
    "slideshow": {
     "slide_type": "skip"
    }
   },
   "outputs": [],
   "source": [
    "import shutil\n",
    "shutil.move('HIV_Bioactivity_dataset.csv', '/Users/larry-gyden/Documents/Bioinformatics')"
   ]
  },
  {
   "cell_type": "code",
   "execution_count": null,
   "id": "8446375f",
   "metadata": {
    "scrolled": false,
    "slideshow": {
     "slide_type": "slide"
    }
   },
   "outputs": [],
   "source": [
    "# Clean data and remove objects missing standard type values\n",
    "df2 = df1[df1.standard_value.notna()]\n",
    "df2 = df1[df1.canonical_smiles.notna()]\n",
    "df2"
   ]
  },
  {
   "cell_type": "code",
   "execution_count": null,
   "id": "0319779d",
   "metadata": {
    "scrolled": true,
    "slideshow": {
     "slide_type": "slide"
    }
   },
   "outputs": [],
   "source": [
    "# Remove therapeutic compounds with duplicate chemical structures\n",
    "df2 = df2.drop_duplicates(['canonical_smiles'])\n",
    "df2"
   ]
  },
  {
   "cell_type": "code",
   "execution_count": null,
   "id": "414f2a55",
   "metadata": {
    "scrolled": true,
    "slideshow": {
     "slide_type": "slide"
    }
   },
   "outputs": [],
   "source": [
    "# Generate new data frame for the therapeutic drug molecules\n",
    "df3 = df2[['molecule_chembl_id', 'canonical_smiles', 'standard_value']]\n",
    "df3"
   ]
  },
  {
   "cell_type": "code",
   "execution_count": null,
   "id": "fb291cf5",
   "metadata": {
    "scrolled": true,
    "slideshow": {
     "slide_type": "skip"
    }
   },
   "outputs": [],
   "source": [
    "#Save and export processed data to Excel\n",
    "import shutil\n",
    "df3.to_csv('HIV_Bioactivity_dataset.csv', index = False)\n",
    "shutil.move('HIV_Bioactivity_dataset.csv', '/Users/larry-gyden/Documents/Bioinformatics')"
   ]
  },
  {
   "cell_type": "code",
   "execution_count": 8,
   "id": "ac40b243",
   "metadata": {
    "slideshow": {
     "slide_type": "skip"
    }
   },
   "outputs": [],
   "source": [
    "# Reimport data from Excel\n",
    "df4 = pd.read_csv('/Users/larry-gyden/Documents/Bioinformatics/HIV_Bioactivity_dataset.csv')"
   ]
  },
  {
   "cell_type": "code",
   "execution_count": 10,
   "id": "d4240eb5",
   "metadata": {
    "slideshow": {
     "slide_type": "slide"
    }
   },
   "outputs": [],
   "source": [
    "# Label therapeutic drug compounds based on inhibitory concentration (IC50)\n",
    "bioactivity_threshold = []\n",
    "for i in df4.standard_value:\n",
    "      if float(i) >= 10000:\n",
    "        bioactivity_threshold.append(\"Inactive\")\n",
    "      elif float(i) <= 1000:\n",
    "        bioactivity_threshold.append(\"Active\")\n",
    "      else:\n",
    "        bioactivity_threshold.append(\"Intermediate\")"
   ]
  },
  {
   "cell_type": "code",
   "execution_count": 11,
   "id": "597b5534",
   "metadata": {
    "scrolled": true,
    "slideshow": {
     "slide_type": "slide"
    }
   },
   "outputs": [
    {
     "data": {
      "text/html": [
       "<div>\n",
       "<style scoped>\n",
       "    .dataframe tbody tr th:only-of-type {\n",
       "        vertical-align: middle;\n",
       "    }\n",
       "\n",
       "    .dataframe tbody tr th {\n",
       "        vertical-align: top;\n",
       "    }\n",
       "\n",
       "    .dataframe thead th {\n",
       "        text-align: right;\n",
       "    }\n",
       "</style>\n",
       "<table border=\"1\" class=\"dataframe\">\n",
       "  <thead>\n",
       "    <tr style=\"text-align: right;\">\n",
       "      <th></th>\n",
       "      <th>molecule_chembl_id</th>\n",
       "      <th>canonical_smiles</th>\n",
       "      <th>standard_value</th>\n",
       "      <th>Bioactivity Class</th>\n",
       "    </tr>\n",
       "  </thead>\n",
       "  <tbody>\n",
       "    <tr>\n",
       "      <th>0</th>\n",
       "      <td>CHEMBL105460</td>\n",
       "      <td>C=CCN(C(=O)OCc1ccc([N+](=O)[O-])cc1)C1CCN(CCC(...</td>\n",
       "      <td>335.00</td>\n",
       "      <td>Active</td>\n",
       "    </tr>\n",
       "    <tr>\n",
       "      <th>1</th>\n",
       "      <td>CHEMBL105606</td>\n",
       "      <td>C=CCN(C(=O)OCc1ccc([N+](=O)[O-])cc1)C1CCN(CCC(...</td>\n",
       "      <td>28.00</td>\n",
       "      <td>Active</td>\n",
       "    </tr>\n",
       "    <tr>\n",
       "      <th>2</th>\n",
       "      <td>CHEMBL105570</td>\n",
       "      <td>C=CCN(C(=O)OCc1ccc([N+](=O)[O-])cc1)C1CCN(CCC(...</td>\n",
       "      <td>10.00</td>\n",
       "      <td>Active</td>\n",
       "    </tr>\n",
       "    <tr>\n",
       "      <th>3</th>\n",
       "      <td>CHEMBL83338</td>\n",
       "      <td>CN(C[C@@H](CCN1CCC2(CC1)C[S+]([O-])c1ccccc12)c...</td>\n",
       "      <td>35.00</td>\n",
       "      <td>Active</td>\n",
       "    </tr>\n",
       "    <tr>\n",
       "      <th>4</th>\n",
       "      <td>CHEMBL325357</td>\n",
       "      <td>C=CCN(C(=O)OCc1ccc([N+](=O)[O-])cc1)C1CCN(CCC(...</td>\n",
       "      <td>15.00</td>\n",
       "      <td>Active</td>\n",
       "    </tr>\n",
       "    <tr>\n",
       "      <th>...</th>\n",
       "      <td>...</td>\n",
       "      <td>...</td>\n",
       "      <td>...</td>\n",
       "      <td>...</td>\n",
       "    </tr>\n",
       "    <tr>\n",
       "      <th>2942</th>\n",
       "      <td>CHEMBL4748891</td>\n",
       "      <td>Cc1nnc(C(C)C)n1[C@@H]1C[C@@H]2CC[C@H](C1)N2CC[...</td>\n",
       "      <td>126.00</td>\n",
       "      <td>Active</td>\n",
       "    </tr>\n",
       "    <tr>\n",
       "      <th>2943</th>\n",
       "      <td>CHEMBL4797451</td>\n",
       "      <td>Cc1nnc(C(C)C)n1[C@@H]1C[C@@H]2CC[C@H](C1)N2CC[...</td>\n",
       "      <td>2413.00</td>\n",
       "      <td>Intermediate</td>\n",
       "    </tr>\n",
       "    <tr>\n",
       "      <th>2944</th>\n",
       "      <td>CHEMBL4760108</td>\n",
       "      <td>O=C(O)c1ccc(Oc2ccc(Cl)cc2NS(=O)(=O)c2ccc(Cl)c(...</td>\n",
       "      <td>3981.07</td>\n",
       "      <td>Intermediate</td>\n",
       "    </tr>\n",
       "    <tr>\n",
       "      <th>2945</th>\n",
       "      <td>CHEMBL4783861</td>\n",
       "      <td>N#CSCCNC(=O)c1ccc(Oc2ccc(Cl)cc2NS(=O)(=O)c2ccc...</td>\n",
       "      <td>3981.07</td>\n",
       "      <td>Intermediate</td>\n",
       "    </tr>\n",
       "    <tr>\n",
       "      <th>2946</th>\n",
       "      <td>CHEMBL4594419</td>\n",
       "      <td>CC(=O)N[C@@H]1C[C@H](NC(C)(C)C)CC[C@@H]1N1CC[C...</td>\n",
       "      <td>3.60</td>\n",
       "      <td>Active</td>\n",
       "    </tr>\n",
       "  </tbody>\n",
       "</table>\n",
       "<p>2947 rows × 4 columns</p>\n",
       "</div>"
      ],
      "text/plain": [
       "     molecule_chembl_id                                   canonical_smiles  \\\n",
       "0          CHEMBL105460  C=CCN(C(=O)OCc1ccc([N+](=O)[O-])cc1)C1CCN(CCC(...   \n",
       "1          CHEMBL105606  C=CCN(C(=O)OCc1ccc([N+](=O)[O-])cc1)C1CCN(CCC(...   \n",
       "2          CHEMBL105570  C=CCN(C(=O)OCc1ccc([N+](=O)[O-])cc1)C1CCN(CCC(...   \n",
       "3           CHEMBL83338  CN(C[C@@H](CCN1CCC2(CC1)C[S+]([O-])c1ccccc12)c...   \n",
       "4          CHEMBL325357  C=CCN(C(=O)OCc1ccc([N+](=O)[O-])cc1)C1CCN(CCC(...   \n",
       "...                 ...                                                ...   \n",
       "2942      CHEMBL4748891  Cc1nnc(C(C)C)n1[C@@H]1C[C@@H]2CC[C@H](C1)N2CC[...   \n",
       "2943      CHEMBL4797451  Cc1nnc(C(C)C)n1[C@@H]1C[C@@H]2CC[C@H](C1)N2CC[...   \n",
       "2944      CHEMBL4760108  O=C(O)c1ccc(Oc2ccc(Cl)cc2NS(=O)(=O)c2ccc(Cl)c(...   \n",
       "2945      CHEMBL4783861  N#CSCCNC(=O)c1ccc(Oc2ccc(Cl)cc2NS(=O)(=O)c2ccc...   \n",
       "2946      CHEMBL4594419  CC(=O)N[C@@H]1C[C@H](NC(C)(C)C)CC[C@@H]1N1CC[C...   \n",
       "\n",
       "      standard_value Bioactivity Class  \n",
       "0             335.00            Active  \n",
       "1              28.00            Active  \n",
       "2              10.00            Active  \n",
       "3              35.00            Active  \n",
       "4              15.00            Active  \n",
       "...              ...               ...  \n",
       "2942          126.00            Active  \n",
       "2943         2413.00      Intermediate  \n",
       "2944         3981.07      Intermediate  \n",
       "2945         3981.07      Intermediate  \n",
       "2946            3.60            Active  \n",
       "\n",
       "[2947 rows x 4 columns]"
      ]
     },
     "execution_count": 11,
     "metadata": {},
     "output_type": "execute_result"
    }
   ],
   "source": [
    "# Concatenate bioactivity class to dataframe\n",
    "bioactivity_class = pd.Series(bioactivity_threshold, name = 'Bioactivity Class')\n",
    "df5 = pd.concat([df4, bioactivity_class], axis = 1)\n",
    "df5"
   ]
  },
  {
   "cell_type": "code",
   "execution_count": 6,
   "id": "a585539c",
   "metadata": {
    "slideshow": {
     "slide_type": "skip"
    }
   },
   "outputs": [
    {
     "ename": "NameError",
     "evalue": "name 'df5' is not defined",
     "output_type": "error",
     "traceback": [
      "\u001b[0;31m---------------------------------------------------------------------------\u001b[0m",
      "\u001b[0;31mNameError\u001b[0m                                 Traceback (most recent call last)",
      "Input \u001b[0;32mIn [6]\u001b[0m, in \u001b[0;36m<cell line: 3>\u001b[0;34m()\u001b[0m\n\u001b[1;32m      1\u001b[0m \u001b[38;5;66;03m#Save and export processed data to Excel\u001b[39;00m\n\u001b[1;32m      2\u001b[0m \u001b[38;5;28;01mimport\u001b[39;00m \u001b[38;5;21;01mshutil\u001b[39;00m\n\u001b[0;32m----> 3\u001b[0m \u001b[43mdf5\u001b[49m\u001b[38;5;241m.\u001b[39mto_csv(\u001b[38;5;124m'\u001b[39m\u001b[38;5;124mHIV_Bioactivity_processed_dataset.csv\u001b[39m\u001b[38;5;124m'\u001b[39m, index \u001b[38;5;241m=\u001b[39m \u001b[38;5;28;01mFalse\u001b[39;00m)\n\u001b[1;32m      4\u001b[0m shutil\u001b[38;5;241m.\u001b[39mmove(\u001b[38;5;124m'\u001b[39m\u001b[38;5;124mHIV_Bioactivity_processed_dataset.csv\u001b[39m\u001b[38;5;124m'\u001b[39m, \u001b[38;5;124m'\u001b[39m\u001b[38;5;124m/Users/larry-gyden/Documents/Bioinformatics\u001b[39m\u001b[38;5;124m'\u001b[39m)\n",
      "\u001b[0;31mNameError\u001b[0m: name 'df5' is not defined"
     ]
    }
   ],
   "source": [
    "#Save and export processed data to Excel\n",
    "import shutil\n",
    "df5.to_csv('HIV_Bioactivity_processed_dataset.csv', index = False)\n",
    "shutil.move('HIV_Bioactivity_processed_dataset.csv', '/Users/larry-gyden/Documents/Bioinformatics')"
   ]
  },
  {
   "cell_type": "code",
   "execution_count": 6,
   "id": "40c16f38",
   "metadata": {
    "slideshow": {
     "slide_type": "skip"
    }
   },
   "outputs": [
    {
     "name": "stdout",
     "output_type": "stream",
     "text": [
      "Collecting rdkit\n",
      "  Downloading rdkit-2022.3.5-cp39-cp39-macosx_11_0_arm64.whl (30.3 MB)\n",
      "\u001b[K     |████████████████████████████████| 30.3 MB 1.8 MB/s eta 0:00:01\n",
      "\u001b[?25hRequirement already satisfied: Pillow in /Applications/miniconda3/lib/python3.9/site-packages (from rdkit) (9.2.0)\n",
      "Requirement already satisfied: numpy in /Applications/miniconda3/lib/python3.9/site-packages (from rdkit) (1.23.3)\n",
      "Installing collected packages: rdkit\n",
      "Successfully installed rdkit-2022.3.5\n"
     ]
    }
   ],
   "source": [
    "# Install rdkit\n",
    "! pip install rdkit"
   ]
  },
  {
   "cell_type": "code",
   "execution_count": 5,
   "id": "f41e382a",
   "metadata": {
    "slideshow": {
     "slide_type": "slide"
    }
   },
   "outputs": [],
   "source": [
    "# Import Libraries\n",
    "import numpy as np\n",
    "from rdkit import Chem\n",
    "from rdkit.Chem import Descriptors, Lipinski"
   ]
  },
  {
   "cell_type": "code",
   "execution_count": null,
   "id": "607913d9",
   "metadata": {
    "slideshow": {
     "slide_type": "slide"
    }
   },
   "outputs": [],
   "source": [
    "## Lipinski Descriptors\n",
    "# Evaluates the drug likeness of compounds based on Absorbption, Distribution, Metabolism, and Excretion (ADME)\n",
    "# RULES:\n",
    "# Molecular Weight < 500 Dalton\n",
    "# Octaol-water partition coefficient (LogP) < 5\n",
    "# Hydrogen bond donors < 5\n",
    "# Hydrogen bond acceptors < 10"
   ]
  },
  {
   "cell_type": "code",
   "execution_count": 13,
   "id": "a7320d5a",
   "metadata": {
    "slideshow": {
     "slide_type": "slide"
    }
   },
   "outputs": [],
   "source": [
    "# Lipinski Descriptors Function\n",
    "# Inspired by: https://codeocean.com/explore/capsules?query=tag:data-curation\n",
    "\n",
    "def lipinski(smiles, verbose=False):\n",
    "\n",
    "    moldata= []\n",
    "    for elem in smiles:\n",
    "        mol=Chem.MolFromSmiles(elem) \n",
    "        moldata.append(mol)\n",
    "       \n",
    "    baseData= np.arange(1,1)\n",
    "    i=0  \n",
    "    for mol in moldata:        \n",
    "       \n",
    "        desc_MolWt = Descriptors.MolWt(mol)\n",
    "        desc_MolLogP = Descriptors.MolLogP(mol)\n",
    "        desc_NumHDonors = Lipinski.NumHDonors(mol)\n",
    "        desc_NumHAcceptors = Lipinski.NumHAcceptors(mol)\n",
    "           \n",
    "        row = np.array([desc_MolWt,\n",
    "                        desc_MolLogP,\n",
    "                        desc_NumHDonors,\n",
    "                        desc_NumHAcceptors])   \n",
    "    \n",
    "        if(i==0):\n",
    "            baseData=row\n",
    "        else:\n",
    "            baseData=np.vstack([baseData, row])\n",
    "        i=i+1      \n",
    "    \n",
    "    columnNames=[\"MW\",\"LogP\",\"NumHDonors\",\"NumHAcceptors\"]   \n",
    "    descriptors = pd.DataFrame(data=baseData,columns=columnNames)\n",
    "    \n",
    "    return descriptors"
   ]
  },
  {
   "cell_type": "code",
   "execution_count": 14,
   "id": "34701dbb",
   "metadata": {
    "slideshow": {
     "slide_type": "slide"
    }
   },
   "outputs": [
    {
     "data": {
      "text/html": [
       "<div>\n",
       "<style scoped>\n",
       "    .dataframe tbody tr th:only-of-type {\n",
       "        vertical-align: middle;\n",
       "    }\n",
       "\n",
       "    .dataframe tbody tr th {\n",
       "        vertical-align: top;\n",
       "    }\n",
       "\n",
       "    .dataframe thead th {\n",
       "        text-align: right;\n",
       "    }\n",
       "</style>\n",
       "<table border=\"1\" class=\"dataframe\">\n",
       "  <thead>\n",
       "    <tr style=\"text-align: right;\">\n",
       "      <th></th>\n",
       "      <th>MW</th>\n",
       "      <th>LogP</th>\n",
       "      <th>NumHDonors</th>\n",
       "      <th>NumHAcceptors</th>\n",
       "    </tr>\n",
       "  </thead>\n",
       "  <tbody>\n",
       "    <tr>\n",
       "      <th>0</th>\n",
       "      <td>595.704</td>\n",
       "      <td>5.71140</td>\n",
       "      <td>0.0</td>\n",
       "      <td>9.0</td>\n",
       "    </tr>\n",
       "    <tr>\n",
       "      <th>1</th>\n",
       "      <td>518.618</td>\n",
       "      <td>4.64940</td>\n",
       "      <td>0.0</td>\n",
       "      <td>8.0</td>\n",
       "    </tr>\n",
       "    <tr>\n",
       "      <th>2</th>\n",
       "      <td>581.717</td>\n",
       "      <td>6.58170</td>\n",
       "      <td>0.0</td>\n",
       "      <td>7.0</td>\n",
       "    </tr>\n",
       "    <tr>\n",
       "      <th>3</th>\n",
       "      <td>557.181</td>\n",
       "      <td>5.28940</td>\n",
       "      <td>0.0</td>\n",
       "      <td>4.0</td>\n",
       "    </tr>\n",
       "    <tr>\n",
       "      <th>4</th>\n",
       "      <td>567.690</td>\n",
       "      <td>6.40760</td>\n",
       "      <td>0.0</td>\n",
       "      <td>7.0</td>\n",
       "    </tr>\n",
       "    <tr>\n",
       "      <th>...</th>\n",
       "      <td>...</td>\n",
       "      <td>...</td>\n",
       "      <td>...</td>\n",
       "      <td>...</td>\n",
       "    </tr>\n",
       "    <tr>\n",
       "      <th>2942</th>\n",
       "      <td>1197.480</td>\n",
       "      <td>6.56022</td>\n",
       "      <td>7.0</td>\n",
       "      <td>15.0</td>\n",
       "    </tr>\n",
       "    <tr>\n",
       "      <th>2943</th>\n",
       "      <td>1169.426</td>\n",
       "      <td>5.78002</td>\n",
       "      <td>7.0</td>\n",
       "      <td>15.0</td>\n",
       "    </tr>\n",
       "    <tr>\n",
       "      <th>2944</th>\n",
       "      <td>472.733</td>\n",
       "      <td>5.93810</td>\n",
       "      <td>2.0</td>\n",
       "      <td>4.0</td>\n",
       "    </tr>\n",
       "    <tr>\n",
       "      <th>2945</th>\n",
       "      <td>590.432</td>\n",
       "      <td>6.54938</td>\n",
       "      <td>2.0</td>\n",
       "      <td>6.0</td>\n",
       "    </tr>\n",
       "    <tr>\n",
       "      <th>2946</th>\n",
       "      <td>484.649</td>\n",
       "      <td>2.24850</td>\n",
       "      <td>3.0</td>\n",
       "      <td>8.0</td>\n",
       "    </tr>\n",
       "  </tbody>\n",
       "</table>\n",
       "<p>2947 rows × 4 columns</p>\n",
       "</div>"
      ],
      "text/plain": [
       "            MW     LogP  NumHDonors  NumHAcceptors\n",
       "0      595.704  5.71140         0.0            9.0\n",
       "1      518.618  4.64940         0.0            8.0\n",
       "2      581.717  6.58170         0.0            7.0\n",
       "3      557.181  5.28940         0.0            4.0\n",
       "4      567.690  6.40760         0.0            7.0\n",
       "...        ...      ...         ...            ...\n",
       "2942  1197.480  6.56022         7.0           15.0\n",
       "2943  1169.426  5.78002         7.0           15.0\n",
       "2944   472.733  5.93810         2.0            4.0\n",
       "2945   590.432  6.54938         2.0            6.0\n",
       "2946   484.649  2.24850         3.0            8.0\n",
       "\n",
       "[2947 rows x 4 columns]"
      ]
     },
     "execution_count": 14,
     "metadata": {},
     "output_type": "execute_result"
    }
   ],
   "source": [
    "# Calculate Lipinski Descriptors for HIV processed data\n",
    "df_lipinski = lipinski(df5.canonical_smiles)\n",
    "df_lipinski"
   ]
  },
  {
   "cell_type": "code",
   "execution_count": 15,
   "id": "fb53d249",
   "metadata": {
    "slideshow": {
     "slide_type": "slide"
    }
   },
   "outputs": [
    {
     "data": {
      "text/html": [
       "<div>\n",
       "<style scoped>\n",
       "    .dataframe tbody tr th:only-of-type {\n",
       "        vertical-align: middle;\n",
       "    }\n",
       "\n",
       "    .dataframe tbody tr th {\n",
       "        vertical-align: top;\n",
       "    }\n",
       "\n",
       "    .dataframe thead th {\n",
       "        text-align: right;\n",
       "    }\n",
       "</style>\n",
       "<table border=\"1\" class=\"dataframe\">\n",
       "  <thead>\n",
       "    <tr style=\"text-align: right;\">\n",
       "      <th></th>\n",
       "      <th>molecule_chembl_id</th>\n",
       "      <th>canonical_smiles</th>\n",
       "      <th>standard_value</th>\n",
       "      <th>Bioactivity Class</th>\n",
       "      <th>MW</th>\n",
       "      <th>LogP</th>\n",
       "      <th>NumHDonors</th>\n",
       "      <th>NumHAcceptors</th>\n",
       "    </tr>\n",
       "  </thead>\n",
       "  <tbody>\n",
       "    <tr>\n",
       "      <th>0</th>\n",
       "      <td>CHEMBL105460</td>\n",
       "      <td>C=CCN(C(=O)OCc1ccc([N+](=O)[O-])cc1)C1CCN(CCC(...</td>\n",
       "      <td>335.00</td>\n",
       "      <td>Active</td>\n",
       "      <td>595.704</td>\n",
       "      <td>5.71140</td>\n",
       "      <td>0.0</td>\n",
       "      <td>9.0</td>\n",
       "    </tr>\n",
       "    <tr>\n",
       "      <th>1</th>\n",
       "      <td>CHEMBL105606</td>\n",
       "      <td>C=CCN(C(=O)OCc1ccc([N+](=O)[O-])cc1)C1CCN(CCC(...</td>\n",
       "      <td>28.00</td>\n",
       "      <td>Active</td>\n",
       "      <td>518.618</td>\n",
       "      <td>4.64940</td>\n",
       "      <td>0.0</td>\n",
       "      <td>8.0</td>\n",
       "    </tr>\n",
       "    <tr>\n",
       "      <th>2</th>\n",
       "      <td>CHEMBL105570</td>\n",
       "      <td>C=CCN(C(=O)OCc1ccc([N+](=O)[O-])cc1)C1CCN(CCC(...</td>\n",
       "      <td>10.00</td>\n",
       "      <td>Active</td>\n",
       "      <td>581.717</td>\n",
       "      <td>6.58170</td>\n",
       "      <td>0.0</td>\n",
       "      <td>7.0</td>\n",
       "    </tr>\n",
       "    <tr>\n",
       "      <th>3</th>\n",
       "      <td>CHEMBL83338</td>\n",
       "      <td>CN(C[C@@H](CCN1CCC2(CC1)C[S+]([O-])c1ccccc12)c...</td>\n",
       "      <td>35.00</td>\n",
       "      <td>Active</td>\n",
       "      <td>557.181</td>\n",
       "      <td>5.28940</td>\n",
       "      <td>0.0</td>\n",
       "      <td>4.0</td>\n",
       "    </tr>\n",
       "    <tr>\n",
       "      <th>4</th>\n",
       "      <td>CHEMBL325357</td>\n",
       "      <td>C=CCN(C(=O)OCc1ccc([N+](=O)[O-])cc1)C1CCN(CCC(...</td>\n",
       "      <td>15.00</td>\n",
       "      <td>Active</td>\n",
       "      <td>567.690</td>\n",
       "      <td>6.40760</td>\n",
       "      <td>0.0</td>\n",
       "      <td>7.0</td>\n",
       "    </tr>\n",
       "    <tr>\n",
       "      <th>...</th>\n",
       "      <td>...</td>\n",
       "      <td>...</td>\n",
       "      <td>...</td>\n",
       "      <td>...</td>\n",
       "      <td>...</td>\n",
       "      <td>...</td>\n",
       "      <td>...</td>\n",
       "      <td>...</td>\n",
       "    </tr>\n",
       "    <tr>\n",
       "      <th>2942</th>\n",
       "      <td>CHEMBL4748891</td>\n",
       "      <td>Cc1nnc(C(C)C)n1[C@@H]1C[C@@H]2CC[C@H](C1)N2CC[...</td>\n",
       "      <td>126.00</td>\n",
       "      <td>Active</td>\n",
       "      <td>1197.480</td>\n",
       "      <td>6.56022</td>\n",
       "      <td>7.0</td>\n",
       "      <td>15.0</td>\n",
       "    </tr>\n",
       "    <tr>\n",
       "      <th>2943</th>\n",
       "      <td>CHEMBL4797451</td>\n",
       "      <td>Cc1nnc(C(C)C)n1[C@@H]1C[C@@H]2CC[C@H](C1)N2CC[...</td>\n",
       "      <td>2413.00</td>\n",
       "      <td>Intermediate</td>\n",
       "      <td>1169.426</td>\n",
       "      <td>5.78002</td>\n",
       "      <td>7.0</td>\n",
       "      <td>15.0</td>\n",
       "    </tr>\n",
       "    <tr>\n",
       "      <th>2944</th>\n",
       "      <td>CHEMBL4760108</td>\n",
       "      <td>O=C(O)c1ccc(Oc2ccc(Cl)cc2NS(=O)(=O)c2ccc(Cl)c(...</td>\n",
       "      <td>3981.07</td>\n",
       "      <td>Intermediate</td>\n",
       "      <td>472.733</td>\n",
       "      <td>5.93810</td>\n",
       "      <td>2.0</td>\n",
       "      <td>4.0</td>\n",
       "    </tr>\n",
       "    <tr>\n",
       "      <th>2945</th>\n",
       "      <td>CHEMBL4783861</td>\n",
       "      <td>N#CSCCNC(=O)c1ccc(Oc2ccc(Cl)cc2NS(=O)(=O)c2ccc...</td>\n",
       "      <td>3981.07</td>\n",
       "      <td>Intermediate</td>\n",
       "      <td>590.432</td>\n",
       "      <td>6.54938</td>\n",
       "      <td>2.0</td>\n",
       "      <td>6.0</td>\n",
       "    </tr>\n",
       "    <tr>\n",
       "      <th>2946</th>\n",
       "      <td>CHEMBL4594419</td>\n",
       "      <td>CC(=O)N[C@@H]1C[C@H](NC(C)(C)C)CC[C@@H]1N1CC[C...</td>\n",
       "      <td>3.60</td>\n",
       "      <td>Active</td>\n",
       "      <td>484.649</td>\n",
       "      <td>2.24850</td>\n",
       "      <td>3.0</td>\n",
       "      <td>8.0</td>\n",
       "    </tr>\n",
       "  </tbody>\n",
       "</table>\n",
       "<p>2947 rows × 8 columns</p>\n",
       "</div>"
      ],
      "text/plain": [
       "     molecule_chembl_id                                   canonical_smiles  \\\n",
       "0          CHEMBL105460  C=CCN(C(=O)OCc1ccc([N+](=O)[O-])cc1)C1CCN(CCC(...   \n",
       "1          CHEMBL105606  C=CCN(C(=O)OCc1ccc([N+](=O)[O-])cc1)C1CCN(CCC(...   \n",
       "2          CHEMBL105570  C=CCN(C(=O)OCc1ccc([N+](=O)[O-])cc1)C1CCN(CCC(...   \n",
       "3           CHEMBL83338  CN(C[C@@H](CCN1CCC2(CC1)C[S+]([O-])c1ccccc12)c...   \n",
       "4          CHEMBL325357  C=CCN(C(=O)OCc1ccc([N+](=O)[O-])cc1)C1CCN(CCC(...   \n",
       "...                 ...                                                ...   \n",
       "2942      CHEMBL4748891  Cc1nnc(C(C)C)n1[C@@H]1C[C@@H]2CC[C@H](C1)N2CC[...   \n",
       "2943      CHEMBL4797451  Cc1nnc(C(C)C)n1[C@@H]1C[C@@H]2CC[C@H](C1)N2CC[...   \n",
       "2944      CHEMBL4760108  O=C(O)c1ccc(Oc2ccc(Cl)cc2NS(=O)(=O)c2ccc(Cl)c(...   \n",
       "2945      CHEMBL4783861  N#CSCCNC(=O)c1ccc(Oc2ccc(Cl)cc2NS(=O)(=O)c2ccc...   \n",
       "2946      CHEMBL4594419  CC(=O)N[C@@H]1C[C@H](NC(C)(C)C)CC[C@@H]1N1CC[C...   \n",
       "\n",
       "      standard_value Bioactivity Class        MW     LogP  NumHDonors  \\\n",
       "0             335.00            Active   595.704  5.71140         0.0   \n",
       "1              28.00            Active   518.618  4.64940         0.0   \n",
       "2              10.00            Active   581.717  6.58170         0.0   \n",
       "3              35.00            Active   557.181  5.28940         0.0   \n",
       "4              15.00            Active   567.690  6.40760         0.0   \n",
       "...              ...               ...       ...      ...         ...   \n",
       "2942          126.00            Active  1197.480  6.56022         7.0   \n",
       "2943         2413.00      Intermediate  1169.426  5.78002         7.0   \n",
       "2944         3981.07      Intermediate   472.733  5.93810         2.0   \n",
       "2945         3981.07      Intermediate   590.432  6.54938         2.0   \n",
       "2946            3.60            Active   484.649  2.24850         3.0   \n",
       "\n",
       "      NumHAcceptors  \n",
       "0               9.0  \n",
       "1               8.0  \n",
       "2               7.0  \n",
       "3               4.0  \n",
       "4               7.0  \n",
       "...             ...  \n",
       "2942           15.0  \n",
       "2943           15.0  \n",
       "2944            4.0  \n",
       "2945            6.0  \n",
       "2946            8.0  \n",
       "\n",
       "[2947 rows x 8 columns]"
      ]
     },
     "execution_count": 15,
     "metadata": {},
     "output_type": "execute_result"
    }
   ],
   "source": [
    "# Concatenate Lipinski Descriptors and HIV processed data\n",
    "df6 = pd.concat([df5, df_lipinski], axis = 1)\n",
    "df6"
   ]
  },
  {
   "cell_type": "code",
   "execution_count": 17,
   "id": "4a0bf6f8",
   "metadata": {
    "slideshow": {
     "slide_type": "slide"
    }
   },
   "outputs": [],
   "source": [
    "# Convert the uniformly distributed IC50 to a negative logorithmic scale (pIC50)\n",
    "# https://github.com/chaninlab/estrogen-receptor-alpha-qsar/blob/master/02_ER_alpha_RO5.ipynb\n",
    "\n",
    "import numpy as np\n",
    "\n",
    "def pIC50(input):\n",
    "    pIC50 = []\n",
    "\n",
    "    for i in input['standard_value_norm']:\n",
    "        molar = i*(10**-9) # Converts nM to M\n",
    "        pIC50.append(-np.log10(molar))\n",
    "\n",
    "    input['pIC50'] = pIC50\n",
    "    x = input.drop('standard_value_norm', 1)\n",
    "        \n",
    "    return x"
   ]
  },
  {
   "cell_type": "code",
   "execution_count": 18,
   "id": "659761a8",
   "metadata": {
    "slideshow": {
     "slide_type": "slide"
    }
   },
   "outputs": [],
   "source": [
    "# Cap all returned values to 100,000,000 to prevent pIC50 from becoming negative\n",
    "def norm_value(input):\n",
    "    norm = []\n",
    "\n",
    "    for i in input['standard_value']:\n",
    "        if i > 100000000:\n",
    "              i = 100000000\n",
    "        norm.append(i)\n",
    "\n",
    "    input['standard_value_norm'] = norm\n",
    "    x = input.drop('standard_value', 1)\n",
    "        \n",
    "    return x"
   ]
  },
  {
   "cell_type": "code",
   "execution_count": 19,
   "id": "e9b5f5d5",
   "metadata": {
    "scrolled": false,
    "slideshow": {
     "slide_type": "slide"
    }
   },
   "outputs": [
    {
     "name": "stderr",
     "output_type": "stream",
     "text": [
      "/var/folders/rs/s7lqpd713n9bgh84nh6vlyrr0000gn/T/ipykernel_35015/1651603075.py:11: FutureWarning: In a future version of pandas all arguments of DataFrame.drop except for the argument 'labels' will be keyword-only.\n",
      "  x = input.drop('standard_value', 1)\n",
      "/var/folders/rs/s7lqpd713n9bgh84nh6vlyrr0000gn/T/ipykernel_35015/22618192.py:14: FutureWarning: In a future version of pandas all arguments of DataFrame.drop except for the argument 'labels' will be keyword-only.\n",
      "  x = input.drop('standard_value_norm', 1)\n"
     ]
    }
   ],
   "source": [
    "# Calculate pIC50 after capping standard_value (IC50 inhibitory concentration)\n",
    "df_final = pIC50(norm_value(df6))"
   ]
  },
  {
   "cell_type": "code",
   "execution_count": 20,
   "id": "fd9e1d61",
   "metadata": {
    "slideshow": {
     "slide_type": "slide"
    }
   },
   "outputs": [
    {
     "data": {
      "text/html": [
       "<div>\n",
       "<style scoped>\n",
       "    .dataframe tbody tr th:only-of-type {\n",
       "        vertical-align: middle;\n",
       "    }\n",
       "\n",
       "    .dataframe tbody tr th {\n",
       "        vertical-align: top;\n",
       "    }\n",
       "\n",
       "    .dataframe thead th {\n",
       "        text-align: right;\n",
       "    }\n",
       "</style>\n",
       "<table border=\"1\" class=\"dataframe\">\n",
       "  <thead>\n",
       "    <tr style=\"text-align: right;\">\n",
       "      <th></th>\n",
       "      <th>molecule_chembl_id</th>\n",
       "      <th>canonical_smiles</th>\n",
       "      <th>Bioactivity Class</th>\n",
       "      <th>MW</th>\n",
       "      <th>LogP</th>\n",
       "      <th>NumHDonors</th>\n",
       "      <th>NumHAcceptors</th>\n",
       "      <th>pIC50</th>\n",
       "    </tr>\n",
       "  </thead>\n",
       "  <tbody>\n",
       "    <tr>\n",
       "      <th>0</th>\n",
       "      <td>CHEMBL105460</td>\n",
       "      <td>C=CCN(C(=O)OCc1ccc([N+](=O)[O-])cc1)C1CCN(CCC(...</td>\n",
       "      <td>Active</td>\n",
       "      <td>595.704</td>\n",
       "      <td>5.71140</td>\n",
       "      <td>0.0</td>\n",
       "      <td>9.0</td>\n",
       "      <td>6.474955</td>\n",
       "    </tr>\n",
       "    <tr>\n",
       "      <th>1</th>\n",
       "      <td>CHEMBL105606</td>\n",
       "      <td>C=CCN(C(=O)OCc1ccc([N+](=O)[O-])cc1)C1CCN(CCC(...</td>\n",
       "      <td>Active</td>\n",
       "      <td>518.618</td>\n",
       "      <td>4.64940</td>\n",
       "      <td>0.0</td>\n",
       "      <td>8.0</td>\n",
       "      <td>7.552842</td>\n",
       "    </tr>\n",
       "    <tr>\n",
       "      <th>2</th>\n",
       "      <td>CHEMBL105570</td>\n",
       "      <td>C=CCN(C(=O)OCc1ccc([N+](=O)[O-])cc1)C1CCN(CCC(...</td>\n",
       "      <td>Active</td>\n",
       "      <td>581.717</td>\n",
       "      <td>6.58170</td>\n",
       "      <td>0.0</td>\n",
       "      <td>7.0</td>\n",
       "      <td>8.000000</td>\n",
       "    </tr>\n",
       "    <tr>\n",
       "      <th>3</th>\n",
       "      <td>CHEMBL83338</td>\n",
       "      <td>CN(C[C@@H](CCN1CCC2(CC1)C[S+]([O-])c1ccccc12)c...</td>\n",
       "      <td>Active</td>\n",
       "      <td>557.181</td>\n",
       "      <td>5.28940</td>\n",
       "      <td>0.0</td>\n",
       "      <td>4.0</td>\n",
       "      <td>7.455932</td>\n",
       "    </tr>\n",
       "    <tr>\n",
       "      <th>4</th>\n",
       "      <td>CHEMBL325357</td>\n",
       "      <td>C=CCN(C(=O)OCc1ccc([N+](=O)[O-])cc1)C1CCN(CCC(...</td>\n",
       "      <td>Active</td>\n",
       "      <td>567.690</td>\n",
       "      <td>6.40760</td>\n",
       "      <td>0.0</td>\n",
       "      <td>7.0</td>\n",
       "      <td>7.823909</td>\n",
       "    </tr>\n",
       "    <tr>\n",
       "      <th>...</th>\n",
       "      <td>...</td>\n",
       "      <td>...</td>\n",
       "      <td>...</td>\n",
       "      <td>...</td>\n",
       "      <td>...</td>\n",
       "      <td>...</td>\n",
       "      <td>...</td>\n",
       "      <td>...</td>\n",
       "    </tr>\n",
       "    <tr>\n",
       "      <th>2938</th>\n",
       "      <td>CHEMBL4795179</td>\n",
       "      <td>CNC(=O)COCC(=O)NCCCCCCCNC(=O)COCC(=O)Nc1ccc([C...</td>\n",
       "      <td>Active</td>\n",
       "      <td>886.099</td>\n",
       "      <td>4.85152</td>\n",
       "      <td>5.0</td>\n",
       "      <td>11.0</td>\n",
       "      <td>6.206210</td>\n",
       "    </tr>\n",
       "    <tr>\n",
       "      <th>2939</th>\n",
       "      <td>CHEMBL4800480</td>\n",
       "      <td>CNC(=O)COCC(=O)NCCCCCNC(=O)COCC(=O)Nc1ccc([C@H...</td>\n",
       "      <td>Active</td>\n",
       "      <td>858.045</td>\n",
       "      <td>4.07132</td>\n",
       "      <td>5.0</td>\n",
       "      <td>11.0</td>\n",
       "      <td>6.023192</td>\n",
       "    </tr>\n",
       "    <tr>\n",
       "      <th>2941</th>\n",
       "      <td>CHEMBL4761986</td>\n",
       "      <td>Cc1nnc(C(C)C)n1[C@@H]1C[C@@H]2CC[C@H](C1)N2CC[...</td>\n",
       "      <td>Active</td>\n",
       "      <td>1225.534</td>\n",
       "      <td>7.34042</td>\n",
       "      <td>7.0</td>\n",
       "      <td>15.0</td>\n",
       "      <td>6.265200</td>\n",
       "    </tr>\n",
       "    <tr>\n",
       "      <th>2942</th>\n",
       "      <td>CHEMBL4748891</td>\n",
       "      <td>Cc1nnc(C(C)C)n1[C@@H]1C[C@@H]2CC[C@H](C1)N2CC[...</td>\n",
       "      <td>Active</td>\n",
       "      <td>1197.480</td>\n",
       "      <td>6.56022</td>\n",
       "      <td>7.0</td>\n",
       "      <td>15.0</td>\n",
       "      <td>6.899629</td>\n",
       "    </tr>\n",
       "    <tr>\n",
       "      <th>2946</th>\n",
       "      <td>CHEMBL4594419</td>\n",
       "      <td>CC(=O)N[C@@H]1C[C@H](NC(C)(C)C)CC[C@@H]1N1CC[C...</td>\n",
       "      <td>Active</td>\n",
       "      <td>484.649</td>\n",
       "      <td>2.24850</td>\n",
       "      <td>3.0</td>\n",
       "      <td>8.0</td>\n",
       "      <td>8.443697</td>\n",
       "    </tr>\n",
       "  </tbody>\n",
       "</table>\n",
       "<p>1886 rows × 8 columns</p>\n",
       "</div>"
      ],
      "text/plain": [
       "     molecule_chembl_id                                   canonical_smiles  \\\n",
       "0          CHEMBL105460  C=CCN(C(=O)OCc1ccc([N+](=O)[O-])cc1)C1CCN(CCC(...   \n",
       "1          CHEMBL105606  C=CCN(C(=O)OCc1ccc([N+](=O)[O-])cc1)C1CCN(CCC(...   \n",
       "2          CHEMBL105570  C=CCN(C(=O)OCc1ccc([N+](=O)[O-])cc1)C1CCN(CCC(...   \n",
       "3           CHEMBL83338  CN(C[C@@H](CCN1CCC2(CC1)C[S+]([O-])c1ccccc12)c...   \n",
       "4          CHEMBL325357  C=CCN(C(=O)OCc1ccc([N+](=O)[O-])cc1)C1CCN(CCC(...   \n",
       "...                 ...                                                ...   \n",
       "2938      CHEMBL4795179  CNC(=O)COCC(=O)NCCCCCCCNC(=O)COCC(=O)Nc1ccc([C...   \n",
       "2939      CHEMBL4800480  CNC(=O)COCC(=O)NCCCCCNC(=O)COCC(=O)Nc1ccc([C@H...   \n",
       "2941      CHEMBL4761986  Cc1nnc(C(C)C)n1[C@@H]1C[C@@H]2CC[C@H](C1)N2CC[...   \n",
       "2942      CHEMBL4748891  Cc1nnc(C(C)C)n1[C@@H]1C[C@@H]2CC[C@H](C1)N2CC[...   \n",
       "2946      CHEMBL4594419  CC(=O)N[C@@H]1C[C@H](NC(C)(C)C)CC[C@@H]1N1CC[C...   \n",
       "\n",
       "     Bioactivity Class        MW     LogP  NumHDonors  NumHAcceptors     pIC50  \n",
       "0               Active   595.704  5.71140         0.0            9.0  6.474955  \n",
       "1               Active   518.618  4.64940         0.0            8.0  7.552842  \n",
       "2               Active   581.717  6.58170         0.0            7.0  8.000000  \n",
       "3               Active   557.181  5.28940         0.0            4.0  7.455932  \n",
       "4               Active   567.690  6.40760         0.0            7.0  7.823909  \n",
       "...                ...       ...      ...         ...            ...       ...  \n",
       "2938            Active   886.099  4.85152         5.0           11.0  6.206210  \n",
       "2939            Active   858.045  4.07132         5.0           11.0  6.023192  \n",
       "2941            Active  1225.534  7.34042         7.0           15.0  6.265200  \n",
       "2942            Active  1197.480  6.56022         7.0           15.0  6.899629  \n",
       "2946            Active   484.649  2.24850         3.0            8.0  8.443697  \n",
       "\n",
       "[1886 rows x 8 columns]"
      ]
     },
     "execution_count": 20,
     "metadata": {},
     "output_type": "execute_result"
    }
   ],
   "source": [
    "#Remove the intermediate bioactivity class of therapeutic compounds for a simpler bivariate comparison\n",
    "df_bivar = df_final[df_final['Bioactivity Class'] != 'Intermediate']\n",
    "df_bivar"
   ]
  },
  {
   "cell_type": "code",
   "execution_count": null,
   "id": "8fcd6184",
   "metadata": {
    "slideshow": {
     "slide_type": "skip"
    }
   },
   "outputs": [],
   "source": [
    "# Save and export processed data to Excel\n",
    "import shutil\n",
    "df_bivar.to_csv('Final_HIV_Bioactivity_processed_dataset.csv', index = False)\n",
    "shutil.move('Final_HIV_Bioactivity_processed_dataset.csv', '/Users/larry-gyden/Documents/Bioinformatics')"
   ]
  },
  {
   "cell_type": "code",
   "execution_count": 21,
   "id": "99cc70d1",
   "metadata": {
    "slideshow": {
     "slide_type": "skip"
    }
   },
   "outputs": [],
   "source": [
    "# Import libraries for exploratory data analysis of chemical space\n",
    "import seaborn as sns\n",
    "sns.set(style = 'ticks')\n",
    "import matplotlib.pyplot as plt"
   ]
  },
  {
   "cell_type": "code",
   "execution_count": null,
   "id": "924f5295",
   "metadata": {
    "slideshow": {
     "slide_type": "slide"
    }
   },
   "outputs": [],
   "source": [
    "# Bar plot\n",
    "plt.figure(figsize = (5.5, 5.5))\n",
    "\n",
    "sns.countplot(x = 'Bioactivity Class', data = df_bivar, edgecolor = 'black')\n",
    "\n",
    "plt.xlabel('Bioactivity Class', fontsize = 14, fontweight = 'bold')\n",
    "plt.ylabel('Frequency', fontsize = 14, fontweight = 'bold')\n",
    "\n",
    "plt.savefig('plot_bioactivity_class.pdf')"
   ]
  },
  {
   "cell_type": "code",
   "execution_count": null,
   "id": "51f55d0a",
   "metadata": {
    "slideshow": {
     "slide_type": "slide"
    }
   },
   "outputs": [],
   "source": [
    "# Scatter plot\n",
    "plt.figure(figsize = (10.5, 10.5))\n",
    "\n",
    "sns.scatterplot(x = 'MW', y = 'LogP', data = df_bivar, \n",
    "                hue = 'Bioactivity Class', size ='pIC50', edgecolor ='black', alpha = 0.7)\n",
    "\n",
    "plt.xlabel('Molecule Weight (Dalton)', fontsize = 14, fontweight = 'bold')\n",
    "plt.ylabel('Octaol-Water Partition Coefficient (LogP)', fontsize = 14, fontweight = 'bold')\n",
    "plt.legend(bbox_to_anchor = (1.05, 1), loc = 2, borderaxespad = 0)\n",
    "plt.savefig('plot_MW_vs_LogP.pdf')"
   ]
  },
  {
   "cell_type": "code",
   "execution_count": null,
   "id": "9f9d19f7",
   "metadata": {
    "slideshow": {
     "slide_type": "slide"
    }
   },
   "outputs": [],
   "source": [
    "# Mann Whitney can be used to determine if the distributions of the two bioactivity classes\n",
    "# are the same for each variable (null hypothesis: H0)\n",
    "def mannwhitney(descriptor, verbose=False):\n",
    "  # Adapted from: https://machinelearningmastery.com/nonparametric-statistical-significance-tests-in-python/\n",
    "  from numpy.random import seed\n",
    "  from numpy.random import randn\n",
    "  from scipy.stats import mannwhitneyu\n",
    "\n",
    "# seed the random number generator\n",
    "  seed(1)\n",
    "\n",
    "# actives and inactives\n",
    "  selection = [descriptor, 'Bioactivity Class']\n",
    "  df = df_bivar[selection]\n",
    "  active = df[df['Bioactivity Class'] == 'Active']\n",
    "  active = active[descriptor]\n",
    "\n",
    "  selection = [descriptor, 'Bioactivity Class']\n",
    "  df = df_bivar[selection]\n",
    "  inactive = df[df['Bioactivity Class'] == 'Inactive']\n",
    "  inactive = inactive[descriptor]\n",
    "\n",
    "# compare samples\n",
    "  stat, p = mannwhitneyu(active, inactive)\n",
    "  #print('Statistics=%.3f, p=%.3f' % (stat, p))\n",
    "\n",
    "# interpret\n",
    "  alpha = 0.05\n",
    "  if p > alpha:\n",
    "    interpretation = 'Same distribution (fail to reject H0)'\n",
    "  else:\n",
    "    interpretation = 'Different distribution (reject H0)'\n",
    "  \n",
    "  results = pd.DataFrame({'Descriptor':descriptor,\n",
    "                          'Statistics':stat,\n",
    "                          'p':p,\n",
    "                          'alpha':alpha,\n",
    "                          'Interpretation':interpretation}, index=[0])\n",
    "  filename = 'mannwhitneyu_' + descriptor + '.csv'\n",
    "  results.to_csv(filename)\n",
    "\n",
    "  return results"
   ]
  },
  {
   "cell_type": "code",
   "execution_count": null,
   "id": "83247ca5",
   "metadata": {
    "slideshow": {
     "slide_type": "slide"
    }
   },
   "outputs": [],
   "source": [
    "# Box-and-Whisker plots and Mann Whitney tests for each variable\n",
    "# pIC50\n",
    "plt.figure(figsize = (5.5, 5.5))\n",
    "\n",
    "sns.boxplot(x = 'Bioactivity Class', y = 'MW', data = df_bivar)\n",
    "\n",
    "plt.xlabel('Bioactivity class', fontsize = 14, fontweight = 'bold')\n",
    "plt.ylabel('MW', fontsize = 14, fontweight = 'bold')\n",
    "\n",
    "plt.savefig('plot_MW.pdf')\n",
    "mannwhitney('pIC50')"
   ]
  },
  {
   "cell_type": "code",
   "execution_count": null,
   "id": "614f4d75",
   "metadata": {
    "slideshow": {
     "slide_type": "slide"
    }
   },
   "outputs": [],
   "source": [
    "# Molecule Weight\n",
    "plt.figure(figsize = (5.5, 5.5))\n",
    "\n",
    "sns.boxplot(x = 'Bioactivity Class', y = 'MW', data = df_bivar)\n",
    "\n",
    "plt.xlabel('Bioactivity class', fontsize = 14, fontweight = 'bold')\n",
    "plt.ylabel('MW', fontsize = 14, fontweight = 'bold')\n",
    "\n",
    "plt.savefig('plot_MW.pdf')\n",
    "mannwhitney('MW')"
   ]
  },
  {
   "cell_type": "code",
   "execution_count": null,
   "id": "fa211153",
   "metadata": {
    "slideshow": {
     "slide_type": "slide"
    }
   },
   "outputs": [],
   "source": [
    "# Octaol-Water Partition Coefficient (LogP)\n",
    "plt.figure(figsize = (5.5, 5.5))\n",
    "\n",
    "sns.boxplot(x = 'Bioactivity Class', y = 'LogP', data = df_bivar)\n",
    "\n",
    "plt.xlabel('Bioactivity class', fontsize = 14, fontweight = 'bold')\n",
    "plt.ylabel('Octaol-Water Partition Coefficient (LogP)', fontsize = 14, fontweight = 'bold')\n",
    "\n",
    "plt.savefig('plot_LogP.pdf')\n",
    "mannwhitney('LogP')"
   ]
  },
  {
   "cell_type": "code",
   "execution_count": null,
   "id": "0f163866",
   "metadata": {
    "slideshow": {
     "slide_type": "slide"
    }
   },
   "outputs": [],
   "source": [
    "#Number of Hydrogen Bond Donors\n",
    "plt.figure(figsize = (5.5, 5.5))\n",
    "\n",
    "sns.boxplot(x = 'Bioactivity Class', y = 'NumHDonors', data = df_bivar)\n",
    "\n",
    "plt.xlabel('Bioactivity class', fontsize = 14, fontweight = 'bold')\n",
    "plt.ylabel('Number of Hydrogen Bond Donors', fontsize = 14, fontweight = 'bold')\n",
    "\n",
    "plt.savefig('plot_LogP.pdf')\n",
    "mannwhitney('NumHDonors')"
   ]
  },
  {
   "cell_type": "code",
   "execution_count": null,
   "id": "5407a2c7",
   "metadata": {
    "slideshow": {
     "slide_type": "slide"
    }
   },
   "outputs": [],
   "source": [
    "#Number of Hydrogen Bond Acceptors\n",
    "plt.figure(figsize = (5.5, 5.5))\n",
    "\n",
    "sns.boxplot(x = 'Bioactivity Class', y = 'NumHAcceptors', data = df_bivar)\n",
    "\n",
    "plt.xlabel('Bioactivity class', fontsize = 14, fontweight = 'bold')\n",
    "plt.ylabel('Number of Hydrogen Bond Acceptors', fontsize = 14, fontweight = 'bold')\n",
    "\n",
    "plt.savefig('plot_LogP.pdf')\n",
    "mannwhitney('NumHAcceptors')"
   ]
  },
  {
   "cell_type": "markdown",
   "id": "3dd28421",
   "metadata": {
    "slideshow": {
     "slide_type": "slide"
    }
   },
   "source": [
    "## Statstical Interpretation\n",
    "#### All of the Lipinski's descriptors Absorbption, Distribution, Metabolism, and Excretion (ADME) exhibited statistically significant difference between the Active bioactivity class and Inactive bioactivity class."
   ]
  },
  {
   "cell_type": "code",
   "execution_count": 11,
   "id": "5b8bacaa",
   "metadata": {
    "slideshow": {
     "slide_type": "skip"
    }
   },
   "outputs": [
    {
     "name": "stdout",
     "output_type": "stream",
     "text": [
      "zsh:1: command not found: wget\n",
      "zsh:1: command not found: wget\n"
     ]
    }
   ],
   "source": [
    "# Install PaDEL-Descriptor\n",
    "! wget https://github.com/dataprofessor/bioinformatics/raw/master/padel.zip\n",
    "! wget https://github.com/dataprofessor/bioinformatics/raw/master/padel.sh"
   ]
  },
  {
   "cell_type": "code",
   "execution_count": 22,
   "id": "49c6487c",
   "metadata": {},
   "outputs": [
    {
     "name": "stdout",
     "output_type": "stream",
     "text": [
      "Example usage:\r\n",
      "  brew search TEXT|/REGEX/\r\n",
      "  brew info [FORMULA|CASK...]\r\n",
      "  brew install FORMULA|CASK...\r\n",
      "  brew update\r\n",
      "  brew upgrade [FORMULA|CASK...]\r\n",
      "  brew uninstall FORMULA|CASK...\r\n",
      "  brew list [FORMULA|CASK...]\r\n",
      "\r\n",
      "Troubleshooting:\r\n",
      "  brew config\r\n",
      "  brew doctor\r\n",
      "  brew install --verbose --debug FORMULA|CASK\r\n",
      "\r\n",
      "Contributing:\r\n",
      "  brew create URL [--no-fetch]\r\n",
      "  brew edit [FORMULA|CASK...]\r\n",
      "\r\n",
      "Further help:\r\n",
      "  brew commands\r\n",
      "  brew help [COMMAND]\r\n",
      "  man brew\r\n",
      "  https://docs.brew.sh\r\n"
     ]
    }
   ],
   "source": [
    "! brew help"
   ]
  },
  {
   "cell_type": "code",
   "execution_count": 23,
   "id": "2097ec68",
   "metadata": {},
   "outputs": [
    {
     "data": {
      "text/plain": [
       "0       C=CCN(C(=O)OCc1ccc([N+](=O)[O-])cc1)C1CCN(CCC(...\n",
       "1       C=CCN(C(=O)OCc1ccc([N+](=O)[O-])cc1)C1CCN(CCC(...\n",
       "2       C=CCN(C(=O)OCc1ccc([N+](=O)[O-])cc1)C1CCN(CCC(...\n",
       "3       CN(C[C@@H](CCN1CCC2(CC1)C[S+]([O-])c1ccccc12)c...\n",
       "4       C=CCN(C(=O)OCc1ccc([N+](=O)[O-])cc1)C1CCN(CCC(...\n",
       "                              ...                        \n",
       "2942    Cc1nnc(C(C)C)n1[C@@H]1C[C@@H]2CC[C@H](C1)N2CC[...\n",
       "2943    Cc1nnc(C(C)C)n1[C@@H]1C[C@@H]2CC[C@H](C1)N2CC[...\n",
       "2944    O=C(O)c1ccc(Oc2ccc(Cl)cc2NS(=O)(=O)c2ccc(Cl)c(...\n",
       "2945    N#CSCCNC(=O)c1ccc(Oc2ccc(Cl)cc2NS(=O)(=O)c2ccc...\n",
       "2946    CC(=O)N[C@@H]1C[C@H](NC(C)(C)C)CC[C@@H]1N1CC[C...\n",
       "Name: canonical_smiles, Length: 2947, dtype: object"
      ]
     },
     "execution_count": 23,
     "metadata": {},
     "output_type": "execute_result"
    }
   ],
   "source": [
    "# Isolate data for descriptor calculation\n",
    "df_descrip = df6['canonical_smiles']\n",
    "df_descrip"
   ]
  },
  {
   "cell_type": "code",
   "execution_count": 40,
   "id": "b9cc2d68",
   "metadata": {},
   "outputs": [
    {
     "ename": "Error",
     "evalue": "Destination path '/Users/larry-gyden/Documents/Bioinformatics/Molecule_Descriptors.csv' already exists",
     "output_type": "error",
     "traceback": [
      "\u001b[0;31m---------------------------------------------------------------------------\u001b[0m",
      "\u001b[0;31mError\u001b[0m                                     Traceback (most recent call last)",
      "Input \u001b[0;32mIn [40]\u001b[0m, in \u001b[0;36m<cell line: 4>\u001b[0;34m()\u001b[0m\n\u001b[1;32m      2\u001b[0m \u001b[38;5;28;01mimport\u001b[39;00m \u001b[38;5;21;01mshutil\u001b[39;00m\n\u001b[1;32m      3\u001b[0m df_descrip\u001b[38;5;241m.\u001b[39mto_csv(\u001b[38;5;124m'\u001b[39m\u001b[38;5;124mMolecule_Descriptors.csv\u001b[39m\u001b[38;5;124m'\u001b[39m, sep \u001b[38;5;241m=\u001b[39m \u001b[38;5;124m'\u001b[39m\u001b[38;5;130;01m\\t\u001b[39;00m\u001b[38;5;124m'\u001b[39m, index \u001b[38;5;241m=\u001b[39m \u001b[38;5;28;01mFalse\u001b[39;00m, header \u001b[38;5;241m=\u001b[39m \u001b[38;5;28;01mFalse\u001b[39;00m)\n\u001b[0;32m----> 4\u001b[0m \u001b[43mshutil\u001b[49m\u001b[38;5;241;43m.\u001b[39;49m\u001b[43mmove\u001b[49m\u001b[43m(\u001b[49m\u001b[38;5;124;43m'\u001b[39;49m\u001b[38;5;124;43mMolecule_Descriptors.csv\u001b[39;49m\u001b[38;5;124;43m'\u001b[39;49m\u001b[43m,\u001b[49m\u001b[43m \u001b[49m\u001b[38;5;124;43m'\u001b[39;49m\u001b[38;5;124;43m/Users/larry-gyden/Documents/Bioinformatics\u001b[39;49m\u001b[38;5;124;43m'\u001b[39;49m\u001b[43m)\u001b[49m\n",
      "File \u001b[0;32m/Applications/miniconda3/lib/python3.9/shutil.py:821\u001b[0m, in \u001b[0;36mmove\u001b[0;34m(src, dst, copy_function)\u001b[0m\n\u001b[1;32m    818\u001b[0m     real_dst \u001b[38;5;241m=\u001b[39m os\u001b[38;5;241m.\u001b[39mpath\u001b[38;5;241m.\u001b[39mjoin(dst, _basename(src))\n\u001b[1;32m    820\u001b[0m     \u001b[38;5;28;01mif\u001b[39;00m os\u001b[38;5;241m.\u001b[39mpath\u001b[38;5;241m.\u001b[39mexists(real_dst):\n\u001b[0;32m--> 821\u001b[0m         \u001b[38;5;28;01mraise\u001b[39;00m Error(\u001b[38;5;124m\"\u001b[39m\u001b[38;5;124mDestination path \u001b[39m\u001b[38;5;124m'\u001b[39m\u001b[38;5;132;01m%s\u001b[39;00m\u001b[38;5;124m'\u001b[39m\u001b[38;5;124m already exists\u001b[39m\u001b[38;5;124m\"\u001b[39m \u001b[38;5;241m%\u001b[39m real_dst)\n\u001b[1;32m    822\u001b[0m \u001b[38;5;28;01mtry\u001b[39;00m:\n\u001b[1;32m    823\u001b[0m     os\u001b[38;5;241m.\u001b[39mrename(src, real_dst)\n",
      "\u001b[0;31mError\u001b[0m: Destination path '/Users/larry-gyden/Documents/Bioinformatics/Molecule_Descriptors.csv' already exists"
     ]
    }
   ],
   "source": [
    "# save to CSV \n",
    "import shutil\n",
    "df_descrip.to_csv('Molecule_Descriptors.csv', sep = '\\t', index = False, header = False)\n",
    "shutil.move('Molecule_Descriptors.csv', '/Users/larry-gyden/Documents/Bioinformatics')"
   ]
  },
  {
   "cell_type": "code",
   "execution_count": 24,
   "id": "449ad8a2",
   "metadata": {},
   "outputs": [
    {
     "name": "stdout",
     "output_type": "stream",
     "text": [
      "CHEMBL105460\tC=CCN(C(=O)OCc1ccc([N+](=O)[O-])cc1)C1CCN(CCC(Cn2nnnc2-c2ccccc2)c2ccccc2)CC1\r\n",
      "CHEMBL105606\tC=CCN(C(=O)OCc1ccc([N+](=O)[O-])cc1)C1CCN(CCC(Cn2cncn2)c2ccccc2)CC1\r\n",
      "CHEMBL105570\tC=CCN(C(=O)OCc1ccc([N+](=O)[O-])cc1)C1CCN(CCC(C)(Cn2cnc3ccccc32)c2ccccc2)CC1\r\n",
      "CHEMBL83338\tCN(C[C@@H](CCN1CCC2(CC1)C[S+]([O-])c1ccccc12)c1cccc(Cl)c1)S(=O)(=O)c1ccccc1\r\n",
      "CHEMBL325357\tC=CCN(C(=O)OCc1ccc([N+](=O)[O-])cc1)C1CCN(CCC(Cn2ncc3ccccc32)c2ccccc2)CC1\r\n",
      "CHEMBL105572\tC=CCN(C(=O)OCc1ccc([N+](=O)[O-])cc1)C1CCN(CCC(Cn2cnc(Cl)c2Cl)c2ccccc2)CC1\r\n",
      "CHEMBL107750\tC=CCN(C(=O)OCc1ccc([N+](=O)[O-])cc1)C1CCN(CCC(Cn2cnc(CC#N)c2)c2ccccc2)CC1\r\n",
      "CHEMBL105659\tC=CCN(C(=O)OCc1ccccc1)C1CCN(CCC(C)(Cn2cnc3ccccc32)c2ccccc2)CC1\r\n",
      "CHEMBL107380\tC=CCN(C(=O)OCc1ccc([N+](=O)[O-])cc1)C1CCN(CCC(C)(c2ccccc2)C2c3ccccc3C(=O)N2CC)CC1\r\n",
      "CHEMBL104793\tC=CCN(C(=O)OCc1ccccc1)C1CCN(CCC(CN2C(=O)N[C@H](Cc3c[nH]c4ccccc34)C2=O)c2ccccc2)CC1\r\n",
      "cat: stdout: Broken pipe\r\n"
     ]
    }
   ],
   "source": [
    "# Test bash terminal\n",
    "! cat Molecule_Descriptors.smi | head"
   ]
  },
  {
   "cell_type": "code",
   "execution_count": 27,
   "id": "a83d1732",
   "metadata": {},
   "outputs": [
    {
     "name": "stdout",
     "output_type": "stream",
     "text": [
      "    2947\r\n"
     ]
    }
   ],
   "source": [
    "! cat Molecule_Descriptors.smi | wc -l"
   ]
  },
  {
   "cell_type": "code",
   "execution_count": 31,
   "id": "16f01e2a",
   "metadata": {},
   "outputs": [
    {
     "name": "stdout",
     "output_type": "stream",
     "text": [
      "Molecule_Descriptors.smi: line 1: syntax error near unexpected token `('\r\n",
      "Molecule_Descriptors.smi: line 1: `CHEMBL105460\tC=CCN(C(=O)OCc1ccc([N+](=O)[O-])cc1)C1CCN(CCC(Cn2nnnc2-c2ccccc2)c2ccccc2)CC1'\r\n"
     ]
    }
   ],
   "source": [
    "#Calculate fingerprint descriptor (purest compound) usign PaDEL (removes sodiums, clorides, small organic acids)\n",
    "! bash Molecule_Descriptors.smi padel.sh"
   ]
  }
 ],
 "metadata": {
  "celltoolbar": "Slideshow",
  "kernelspec": {
   "display_name": "Python 3 (ipykernel)",
   "language": "python",
   "name": "python3"
  },
  "language_info": {
   "codemirror_mode": {
    "name": "ipython",
    "version": 3
   },
   "file_extension": ".py",
   "mimetype": "text/x-python",
   "name": "python",
   "nbconvert_exporter": "python",
   "pygments_lexer": "ipython3",
   "version": "3.9.12"
  }
 },
 "nbformat": 4,
 "nbformat_minor": 5
}
